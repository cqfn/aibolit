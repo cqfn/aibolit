{
  "nbformat": 4,
  "nbformat_minor": 0,
  "metadata": {
    "colab": {
      "name": "Pairwise.ipynb",
      "provenance": [],
      "collapsed_sections": [],
      "toc_visible": true
    },
    "kernelspec": {
      "name": "python3",
      "display_name": "Python 3"
    }
  },
  "cells": [
    {
      "cell_type": "code",
      "metadata": {
        "id": "rWX5vf6FOhDn",
        "colab_type": "code",
        "colab": {}
      },
      "source": [
        "import torch\n",
        "from torch.autograd import Variable\n",
        "import torch.nn.functional as F\n",
        "import torch.utils.data as Data\n",
        "\n",
        "import matplotlib.pyplot as plt\n",
        "%matplotlib inline\n",
        "\n",
        "import numpy as np\n",
        "import imageio\n",
        "import pandas as pd\n",
        "import pandas as pd\n",
        "import numpy as np\n",
        "from sklearn.linear_model import LinearRegression, Lasso, Ridge, HuberRegressor\n",
        "import matplotlib.pyplot as plt\n",
        "from sklearn.metrics import mean_squared_error, r2_score, mean_absolute_error, explained_variance_score, mean_squared_log_error, mean_tweedie_deviance\n",
        "from sklearn.model_selection import GridSearchCV\n",
        "from sklearn.preprocessing import StandardScaler, MinMaxScaler\n",
        "from sklearn.decomposition import PCA\n",
        "import numpy as np\n",
        "from sklearn.ensemble import RandomForestRegressor\n",
        "from sklearn.model_selection import train_test_split\n",
        "from sklearn.preprocessing import PolynomialFeatures\n",
        "from sklearn import datasets, linear_model\n",
        "import statsmodels.api as sm\n",
        "from scipy import stats\n",
        "from sklearn.pipeline import Pipeline\n",
        "from sklearn.base import clone\n",
        "import seaborn as sns\n",
        "import pandas as pd\n",
        "from sklearn.preprocessing import StandardScaler\n",
        "import torch.optim as optim\n",
        "from tqdm import tqdm\n",
        "import torch\n",
        "from torch.autograd import Variable\n",
        "import torch.nn.functional as F\n",
        "import torch.nn as nn\n",
        "import torch.utils.data as Data\n",
        "\n",
        "import matplotlib.pyplot as plt\n",
        "%matplotlib inline\n",
        "\n",
        "import numpy as np\n",
        "import imageio\n",
        "import pandas as pd\n",
        "import pandas as pd\n",
        "import numpy as np\n",
        "from sklearn.linear_model import LinearRegression, Lasso, Ridge, HuberRegressor\n",
        "import matplotlib.pyplot as plt\n",
        "from sklearn.metrics import mean_squared_error, r2_score, mean_absolute_error, \\\n",
        "        explained_variance_score, mean_squared_log_error, mean_tweedie_deviance\n",
        "from sklearn.model_selection import GridSearchCV\n",
        "from sklearn.preprocessing import StandardScaler, MinMaxScaler\n",
        "from sklearn.decomposition import PCA\n",
        "import numpy as np\n",
        "from sklearn.ensemble import RandomForestRegressor\n",
        "from sklearn.model_selection import train_test_split\n",
        "from sklearn.preprocessing import PolynomialFeatures\n",
        "from sklearn import datasets, linear_model\n",
        "import statsmodels.api as sm\n",
        "from scipy import stats\n",
        "from sklearn.pipeline import Pipeline\n",
        "from sklearn.base import clone\n",
        "import seaborn as sns\n",
        "import pandas as pd\n",
        "from sklearn.preprocessing import StandardScaler\n",
        "import torch.optim as optim\n",
        "from tqdm import tqdm\n",
        "from sklearn.metrics import make_scorer\n",
        "from itertools import permutations, combinations\n",
        "import scipy.special\n",
        "import random\n",
        "import math"
      ],
      "execution_count": 0,
      "outputs": []
    },
    {
      "cell_type": "code",
      "metadata": {
        "id": "Y_sy3JGUOlm2",
        "colab_type": "code",
        "outputId": "21ac6c47-cc35-4aa3-dfe3-e6f8e8070c9c",
        "colab": {
          "base_uri": "https://localhost:8080/",
          "height": 35
        }
      },
      "source": [
        "COLUMNS_FEATURES =  [\n",
        "  'var_middle_number', 'this_find_number',\n",
        "  'string_concat_number', 'instance_of_number',\n",
        "  'method_chain_number', 'var_decl_diff_number_11', \n",
        "  'var_decl_diff_number_7', 'var_decl_diff_number_5', \n",
        "  'super_method_call_number', 'force_type_cast_number',\n",
        "  'entropy', 'halstead volume', 'ncss_lightweight',\n",
        "  'left_spaces_var','right_spaces_var','max_left_diff_spaces',\n",
        "  'max_right_diff_spaces', 'asserts_number', 'setter_number',\n",
        "  'empty_rethrow_number', 'prohibited_class_names_number',\n",
        "  'return_in_if_number', 'impl_multi_number',\n",
        "  'many_prim_ctors_number','multiple_try_number',\n",
        "  'non_final_field_number','null_check_number',\n",
        "  'part_sync_number','red_catch_number',\n",
        "  'return_null_number'\n",
        "]\n",
        "\n",
        "ONLY_PATTERNS = ['var_middle_number', 'this_find_number','string_concat_number', 'instance_of_number',\n",
        "'method_chain_number', 'var_decl_diff_number_11', 'var_decl_diff_number_7', 'var_decl_diff_number_5', \n",
        "'super_method_call_number', 'force_type_cast_number','asserts_number', 'setter_number', 'empty_rethrow_number', \n",
        "'prohibited_class_names_number', 'return_in_if_number', 'impl_multi_number',\n",
        "'many_prim_ctors_number','multiple_try_number', 'non_final_field_number','null_check_number', \n",
        "'part_sync_number','red_catch_number', 'return_null_number']\n",
        "\n",
        "\n",
        "FEATURES_NUMBER = len(ONLY_PATTERNS)\n",
        "FEATURES_NUMBER"
      ],
      "execution_count": 0,
      "outputs": [
        {
          "output_type": "execute_result",
          "data": {
            "text/plain": [
              "23"
            ]
          },
          "metadata": {
            "tags": []
          },
          "execution_count": 2
        }
      ]
    },
    {
      "cell_type": "code",
      "metadata": {
        "id": "xRUCIvCWPFjk",
        "colab_type": "code",
        "colab": {}
      },
      "source": [
        "scale_ncss=False\n",
        "scale=False\n",
        "# import and initialize dataset\n",
        "df = pd.read_csv('dataset8.csv')\n",
        "df = df.dropna().drop_duplicates(subset=df.columns.difference(['filename']))\n",
        "df = df[(df.ncss_lightweight > 20) & (df.ncss_lightweight < 100) & (df.npath_method_avg < 100000.00) & (df.cyclo < 50) & (df.cyclo > 4)].copy().reset_index()\n",
        "df.rename(columns = {'for_type_cast_number':'force_type_cast_number'}, inplace = True) \n",
        "df = df[~df[\"filename\"].str.lower().str.contains(\"test\")]\n",
        "filename_with_index = df['filename']\n",
        "df.drop('filename', axis=1, inplace=True)\n",
        "df.drop('index', axis=1, inplace=True)\n",
        "Y = df[['cyclo']].copy().values\n",
        "if scale_ncss:\n",
        "    new = pd.DataFrame(df[ONLY_PATTERNS].values / df['ncss_lightweight'].values.reshape((-1, 1)))\n",
        "else:\n",
        "    new = df[ONLY_PATTERNS].copy()\n",
        "if scale:\n",
        "  X = pd.DataFrame(StandardScaler().fit_transform(new.values), columns=new.columns, index=new.index).values\n",
        "else:\n",
        "  X = new"
      ],
      "execution_count": 0,
      "outputs": []
    },
    {
      "cell_type": "code",
      "metadata": {
        "id": "BFWNzI6QPRvk",
        "colab_type": "code",
        "outputId": "1d21162d-2d26-4f37-c7f3-f9117c2e5947",
        "colab": {
          "base_uri": "https://localhost:8080/",
          "height": 515
        }
      },
      "source": [
        "df.plot.scatter(x='cyclo', y='ncss_lightweight', c='DarkBlue', figsize=(10,8), grid=True)"
      ],
      "execution_count": 0,
      "outputs": [
        {
          "output_type": "execute_result",
          "data": {
            "text/plain": [
              "<matplotlib.axes._subplots.AxesSubplot at 0x7f36b50b6160>"
            ]
          },
          "metadata": {
            "tags": []
          },
          "execution_count": 5
        },
        {
          "output_type": "display_data",
          "data": {
            "image/png": "[encoded data removed]",
            "text/plain": [
              "<Figure size 720x576 with 1 Axes>"
            ]
          },
          "metadata": {
            "tags": [],
            "needs_background": "light"
          }
        }
      ]
    },
    {
      "cell_type": "code",
      "metadata": {
        "id": "_plRQJlq0pTO",
        "colab_type": "code",
        "outputId": "47d37842-246c-497c-a5e1-29cf97f0a2d9",
        "colab": {
          "base_uri": "https://localhost:8080/",
          "height": 516
        }
      },
      "source": [
        "df.plot.scatter(x='cyclo_method_avg', y='ncss_method_avg', c='DarkBlue', figsize=(10,8), grid=True)"
      ],
      "execution_count": 0,
      "outputs": [
        {
          "output_type": "execute_result",
          "data": {
            "text/plain": [
              "<matplotlib.axes._subplots.AxesSubplot at 0x7f36b5434be0>"
            ]
          },
          "metadata": {
            "tags": []
          },
          "execution_count": 6
        },
        {
          "output_type": "display_data",
          "data": {
            "image/png": "[encoded data removed]",
            "text/plain": [
              "<Figure size 720x576 with 1 Axes>"
            ]
          },
          "metadata": {
            "tags": [],
            "needs_background": "light"
          }
        }
      ]
    },
    {
      "cell_type": "code",
      "metadata": {
        "id": "c34xuCspPgP0",
        "colab_type": "code",
        "colab": {}
      },
      "source": [
        "indices = X.index.values.tolist()\n",
        "perm = permutations(indices, 2)"
      ],
      "execution_count": 0,
      "outputs": []
    },
    {
      "cell_type": "markdown",
      "metadata": {
        "id": "eTwyOWzgER51",
        "colab_type": "text"
      },
      "source": [
        "# Find the number of permutations which is the closest to the input data"
      ]
    },
    {
      "cell_type": "code",
      "metadata": {
        "id": "s0A8mR6C3zdD",
        "colab_type": "code",
        "colab": {}
      },
      "source": [
        "matrix = []\n",
        "def to_bool(s):\n",
        "    return 1 if s else 0\n",
        "    \n",
        "def calc_closest_dataset_size_using_permutation(dataset_size):\n",
        "  # since we have n*(n-1) options, we can sqrt and find the closest number\n",
        "  return int(math.sqrt(dataset_size))"
      ],
      "execution_count": 0,
      "outputs": []
    },
    {
      "cell_type": "markdown",
      "metadata": {
        "id": "mzwbPpN1Ek7g",
        "colab_type": "text"
      },
      "source": [
        "Some tests for the mentioned function"
      ]
    },
    {
      "cell_type": "code",
      "metadata": {
        "id": "HPmL3OatB1tx",
        "colab_type": "code",
        "outputId": "95c7617e-4ce5-438d-9a1d-392659efd371",
        "colab": {
          "base_uri": "https://localhost:8080/",
          "height": 35
        }
      },
      "source": [
        "calc_closest_dataset_size_using_permutation(2)"
      ],
      "execution_count": 0,
      "outputs": [
        {
          "output_type": "execute_result",
          "data": {
            "text/plain": [
              "1"
            ]
          },
          "metadata": {
            "tags": []
          },
          "execution_count": 90
        }
      ]
    },
    {
      "cell_type": "code",
      "metadata": {
        "id": "dbyP9Wo390fy",
        "colab_type": "code",
        "outputId": "eb94dc24-47ab-4972-ecba-d57242bf9f33",
        "colab": {
          "base_uri": "https://localhost:8080/",
          "height": 35
        }
      },
      "source": [
        "calc_closest_dataset_size_using_permutation(3), calc_closest_dataset_size_using_permutation(10), calc_closest_dataset_size_using_permutation(40), calc_closest_dataset_size_using_permutation(7945), calc_closest_dataset_size_using_permutation(498000), calc_closest_dataset_size_using_permutation(54515)"
      ],
      "execution_count": 0,
      "outputs": [
        {
          "output_type": "execute_result",
          "data": {
            "text/plain": [
              "(1, 3, 6, 89, 705, 233)"
            ]
          },
          "metadata": {
            "tags": []
          },
          "execution_count": 97
        }
      ]
    },
    {
      "cell_type": "code",
      "metadata": {
        "id": "Z6fjba6IRz9l",
        "colab_type": "code",
        "colab": {}
      },
      "source": [
        "# REPLACE WITH PERMUTATIONS! "
      ],
      "execution_count": 0,
      "outputs": []
    },
    {
      "cell_type": "code",
      "metadata": {
        "id": "mTMmmgln_yn-",
        "colab_type": "code",
        "outputId": "c947b1e6-f459-40a9-a550-80af67bfb48b",
        "colab": {
          "base_uri": "https://localhost:8080/",
          "height": 35
        }
      },
      "source": [
        "print(scipy.special.perm(1, 2), scipy.special.perm(2, 2), scipy.special.perm(3, 2))\n",
        "# print(perm(4, 2), perm(5, 2), perm(6, 2), perm(7, 2))\n",
        "# print(perm(88, 2), perm(89, 2) , perm(90, 2))\n",
        "# print(perm(705, 2), perm(706, 2), perm(707, 2))\n",
        "# print(perm(232, 2), perm(233, 2), perm(234, 2))"
      ],
      "execution_count": 0,
      "outputs": [
        {
          "output_type": "stream",
          "text": [
            "0.0 2.0 6.0\n"
          ],
          "name": "stdout"
        }
      ]
    },
    {
      "cell_type": "code",
      "metadata": {
        "id": "jlqbyxEW4Lk5",
        "colab_type": "code",
        "colab": {}
      },
      "source": [
        "def generate_full_permutations_dataset(d, desired_dataset_size, filename=\"out.csv\"):\n",
        "  indices = []\n",
        "  real_patterns_number = calc_closest_dataset_size_using_permutation(desired_dataset_size)\n",
        "  print('You set {} values for dataset, but since we have permutations, we will get only dataset with {} size due to pairwise comparison between each pattern'.format(desired_dataset_size, real_patterns_number))\n",
        "  random_indices = random.sample(d.index.tolist(), real_patterns_number)\n",
        "  perms = permutations(random_indices, 2)\n",
        "  lst = list(perms)\n",
        "  matrix = []\n",
        "  for _, val in tqdm(enumerate(lst), total=len(lst)):\n",
        "    # print(_)\n",
        "    x, y = val[0], val[1]\n",
        "    # print(x, y)\n",
        "    # print(iter)\n",
        "    left_patterns = d.loc[x, :].values.tolist()\n",
        "    right_patterns = d.loc[y, :].values.tolist()\n",
        "    row = left_patterns + right_patterns\n",
        "    # print(row)\n",
        "    target_left = df.loc[x, :]['cyclo']\n",
        "    target_right = df.loc[y, :]['cyclo']\n",
        "    target_cyclo = to_bool(target_left < target_right)\n",
        "    matrix.append(row + [target_cyclo])\n",
        "    # iter += 1\n",
        "    import csv\n",
        "\n",
        "  with open(filename, \"w\", newline=\"\") as f:\n",
        "      writer = csv.writer(f)\n",
        "      writer.writerows(matrix)"
      ],
      "execution_count": 0,
      "outputs": []
    },
    {
      "cell_type": "code",
      "metadata": {
        "id": "24-V46b76PI8",
        "colab_type": "code",
        "outputId": "bc1c4260-c37c-4e04-9d3f-ea1fb8ab1e4c",
        "colab": {
          "base_uri": "https://localhost:8080/",
          "height": 54
        }
      },
      "source": [
        "generate_full_permutations_dataset(X, 10000)"
      ],
      "execution_count": 0,
      "outputs": [
        {
          "output_type": "stream",
          "text": [
            "  1%|          | 81/9900 [00:00<00:12, 805.49it/s]"
          ],
          "name": "stderr"
        },
        {
          "output_type": "stream",
          "text": [
            "You set 10000 values for dataset, but since we have permutations, we will get only dataset with 100 size due to pairwise comparison between each pattern\n"
          ],
          "name": "stdout"
        },
        {
          "output_type": "stream",
          "text": [
            "100%|██████████| 9900/9900 [00:10<00:00, 982.89it/s] \n"
          ],
          "name": "stderr"
        }
      ]
    },
    {
      "cell_type": "code",
      "metadata": {
        "id": "j8-0yKVtNGPl",
        "colab_type": "code",
        "outputId": "b110d7be-e59d-4e65-aa23-59f4646467b7",
        "colab": {
          "base_uri": "https://localhost:8080/",
          "height": 198
        }
      },
      "source": [
        "dataset = pd.read_csv('out.csv', header=None)\n",
        "dataset.head()"
      ],
      "execution_count": 0,
      "outputs": [
        {
          "output_type": "execute_result",
          "data": {
            "text/html": [
              "<div>\n",
              "<style scoped>\n",
              "    .dataframe tbody tr th:only-of-type {\n",
              "        vertical-align: middle;\n",
              "    }\n",
              "\n",
              "    .dataframe tbody tr th {\n",
              "        vertical-align: top;\n",
              "    }\n",
              "\n",
              "    .dataframe thead th {\n",
              "        text-align: right;\n",
              "    }\n",
              "</style>\n",
              "<table border=\"1\" class=\"dataframe\">\n",
              "  <thead>\n",
              "    <tr style=\"text-align: right;\">\n",
              "      <th></th>\n",
              "      <th>0</th>\n",
              "      <th>1</th>\n",
              "      <th>2</th>\n",
              "      <th>3</th>\n",
              "      <th>4</th>\n",
              "      <th>5</th>\n",
              "      <th>6</th>\n",
              "      <th>7</th>\n",
              "      <th>8</th>\n",
              "      <th>9</th>\n",
              "      <th>10</th>\n",
              "      <th>11</th>\n",
              "      <th>12</th>\n",
              "      <th>13</th>\n",
              "      <th>14</th>\n",
              "      <th>15</th>\n",
              "      <th>16</th>\n",
              "      <th>17</th>\n",
              "      <th>18</th>\n",
              "      <th>19</th>\n",
              "      <th>20</th>\n",
              "      <th>21</th>\n",
              "      <th>22</th>\n",
              "      <th>23</th>\n",
              "      <th>24</th>\n",
              "      <th>25</th>\n",
              "      <th>26</th>\n",
              "      <th>27</th>\n",
              "      <th>28</th>\n",
              "      <th>29</th>\n",
              "      <th>30</th>\n",
              "      <th>31</th>\n",
              "      <th>32</th>\n",
              "      <th>33</th>\n",
              "      <th>34</th>\n",
              "      <th>35</th>\n",
              "      <th>36</th>\n",
              "      <th>37</th>\n",
              "      <th>38</th>\n",
              "      <th>39</th>\n",
              "      <th>40</th>\n",
              "      <th>41</th>\n",
              "      <th>42</th>\n",
              "      <th>43</th>\n",
              "      <th>44</th>\n",
              "      <th>45</th>\n",
              "      <th>46</th>\n",
              "    </tr>\n",
              "  </thead>\n",
              "  <tbody>\n",
              "    <tr>\n",
              "      <th>0</th>\n",
              "      <td>0</td>\n",
              "      <td>0</td>\n",
              "      <td>0</td>\n",
              "      <td>0</td>\n",
              "      <td>0</td>\n",
              "      <td>0</td>\n",
              "      <td>0</td>\n",
              "      <td>0</td>\n",
              "      <td>0</td>\n",
              "      <td>0</td>\n",
              "      <td>0</td>\n",
              "      <td>0</td>\n",
              "      <td>0</td>\n",
              "      <td>0</td>\n",
              "      <td>0</td>\n",
              "      <td>0</td>\n",
              "      <td>0</td>\n",
              "      <td>0</td>\n",
              "      <td>6</td>\n",
              "      <td>0</td>\n",
              "      <td>0</td>\n",
              "      <td>0</td>\n",
              "      <td>0</td>\n",
              "      <td>0</td>\n",
              "      <td>0</td>\n",
              "      <td>0</td>\n",
              "      <td>0</td>\n",
              "      <td>0</td>\n",
              "      <td>0</td>\n",
              "      <td>0</td>\n",
              "      <td>0</td>\n",
              "      <td>1</td>\n",
              "      <td>0</td>\n",
              "      <td>0</td>\n",
              "      <td>0</td>\n",
              "      <td>0</td>\n",
              "      <td>0</td>\n",
              "      <td>0</td>\n",
              "      <td>0</td>\n",
              "      <td>0</td>\n",
              "      <td>0</td>\n",
              "      <td>5</td>\n",
              "      <td>0</td>\n",
              "      <td>0</td>\n",
              "      <td>0</td>\n",
              "      <td>0</td>\n",
              "      <td>0</td>\n",
              "    </tr>\n",
              "    <tr>\n",
              "      <th>1</th>\n",
              "      <td>0</td>\n",
              "      <td>0</td>\n",
              "      <td>0</td>\n",
              "      <td>0</td>\n",
              "      <td>0</td>\n",
              "      <td>0</td>\n",
              "      <td>0</td>\n",
              "      <td>0</td>\n",
              "      <td>0</td>\n",
              "      <td>0</td>\n",
              "      <td>0</td>\n",
              "      <td>0</td>\n",
              "      <td>0</td>\n",
              "      <td>0</td>\n",
              "      <td>0</td>\n",
              "      <td>0</td>\n",
              "      <td>0</td>\n",
              "      <td>0</td>\n",
              "      <td>6</td>\n",
              "      <td>0</td>\n",
              "      <td>0</td>\n",
              "      <td>0</td>\n",
              "      <td>0</td>\n",
              "      <td>6</td>\n",
              "      <td>0</td>\n",
              "      <td>1</td>\n",
              "      <td>2</td>\n",
              "      <td>0</td>\n",
              "      <td>0</td>\n",
              "      <td>3</td>\n",
              "      <td>3</td>\n",
              "      <td>0</td>\n",
              "      <td>3</td>\n",
              "      <td>0</td>\n",
              "      <td>0</td>\n",
              "      <td>0</td>\n",
              "      <td>1</td>\n",
              "      <td>0</td>\n",
              "      <td>0</td>\n",
              "      <td>0</td>\n",
              "      <td>0</td>\n",
              "      <td>0</td>\n",
              "      <td>3</td>\n",
              "      <td>0</td>\n",
              "      <td>0</td>\n",
              "      <td>0</td>\n",
              "      <td>0</td>\n",
              "    </tr>\n",
              "    <tr>\n",
              "      <th>2</th>\n",
              "      <td>0</td>\n",
              "      <td>0</td>\n",
              "      <td>0</td>\n",
              "      <td>0</td>\n",
              "      <td>0</td>\n",
              "      <td>0</td>\n",
              "      <td>0</td>\n",
              "      <td>0</td>\n",
              "      <td>0</td>\n",
              "      <td>0</td>\n",
              "      <td>0</td>\n",
              "      <td>0</td>\n",
              "      <td>0</td>\n",
              "      <td>0</td>\n",
              "      <td>0</td>\n",
              "      <td>0</td>\n",
              "      <td>0</td>\n",
              "      <td>0</td>\n",
              "      <td>6</td>\n",
              "      <td>0</td>\n",
              "      <td>0</td>\n",
              "      <td>0</td>\n",
              "      <td>0</td>\n",
              "      <td>0</td>\n",
              "      <td>0</td>\n",
              "      <td>0</td>\n",
              "      <td>0</td>\n",
              "      <td>0</td>\n",
              "      <td>0</td>\n",
              "      <td>0</td>\n",
              "      <td>0</td>\n",
              "      <td>0</td>\n",
              "      <td>0</td>\n",
              "      <td>0</td>\n",
              "      <td>0</td>\n",
              "      <td>0</td>\n",
              "      <td>0</td>\n",
              "      <td>0</td>\n",
              "      <td>0</td>\n",
              "      <td>0</td>\n",
              "      <td>0</td>\n",
              "      <td>5</td>\n",
              "      <td>0</td>\n",
              "      <td>0</td>\n",
              "      <td>0</td>\n",
              "      <td>0</td>\n",
              "      <td>0</td>\n",
              "    </tr>\n",
              "    <tr>\n",
              "      <th>3</th>\n",
              "      <td>0</td>\n",
              "      <td>0</td>\n",
              "      <td>0</td>\n",
              "      <td>0</td>\n",
              "      <td>0</td>\n",
              "      <td>0</td>\n",
              "      <td>0</td>\n",
              "      <td>0</td>\n",
              "      <td>0</td>\n",
              "      <td>0</td>\n",
              "      <td>0</td>\n",
              "      <td>0</td>\n",
              "      <td>0</td>\n",
              "      <td>0</td>\n",
              "      <td>0</td>\n",
              "      <td>0</td>\n",
              "      <td>0</td>\n",
              "      <td>0</td>\n",
              "      <td>6</td>\n",
              "      <td>0</td>\n",
              "      <td>0</td>\n",
              "      <td>0</td>\n",
              "      <td>0</td>\n",
              "      <td>0</td>\n",
              "      <td>0</td>\n",
              "      <td>0</td>\n",
              "      <td>0</td>\n",
              "      <td>0</td>\n",
              "      <td>0</td>\n",
              "      <td>0</td>\n",
              "      <td>0</td>\n",
              "      <td>0</td>\n",
              "      <td>0</td>\n",
              "      <td>0</td>\n",
              "      <td>0</td>\n",
              "      <td>0</td>\n",
              "      <td>0</td>\n",
              "      <td>0</td>\n",
              "      <td>0</td>\n",
              "      <td>0</td>\n",
              "      <td>0</td>\n",
              "      <td>6</td>\n",
              "      <td>0</td>\n",
              "      <td>0</td>\n",
              "      <td>0</td>\n",
              "      <td>0</td>\n",
              "      <td>0</td>\n",
              "    </tr>\n",
              "    <tr>\n",
              "      <th>4</th>\n",
              "      <td>0</td>\n",
              "      <td>0</td>\n",
              "      <td>0</td>\n",
              "      <td>0</td>\n",
              "      <td>0</td>\n",
              "      <td>0</td>\n",
              "      <td>0</td>\n",
              "      <td>0</td>\n",
              "      <td>0</td>\n",
              "      <td>0</td>\n",
              "      <td>0</td>\n",
              "      <td>0</td>\n",
              "      <td>0</td>\n",
              "      <td>0</td>\n",
              "      <td>0</td>\n",
              "      <td>0</td>\n",
              "      <td>0</td>\n",
              "      <td>0</td>\n",
              "      <td>6</td>\n",
              "      <td>0</td>\n",
              "      <td>0</td>\n",
              "      <td>0</td>\n",
              "      <td>0</td>\n",
              "      <td>0</td>\n",
              "      <td>0</td>\n",
              "      <td>0</td>\n",
              "      <td>0</td>\n",
              "      <td>0</td>\n",
              "      <td>0</td>\n",
              "      <td>0</td>\n",
              "      <td>0</td>\n",
              "      <td>0</td>\n",
              "      <td>0</td>\n",
              "      <td>0</td>\n",
              "      <td>0</td>\n",
              "      <td>0</td>\n",
              "      <td>0</td>\n",
              "      <td>0</td>\n",
              "      <td>1</td>\n",
              "      <td>0</td>\n",
              "      <td>0</td>\n",
              "      <td>0</td>\n",
              "      <td>5</td>\n",
              "      <td>0</td>\n",
              "      <td>0</td>\n",
              "      <td>4</td>\n",
              "      <td>1</td>\n",
              "    </tr>\n",
              "  </tbody>\n",
              "</table>\n",
              "</div>"
            ],
            "text/plain": [
              "   0   1   2   3   4   5   6   7   8   ...  38  39  40  41  42  43  44  45  46\n",
              "0   0   0   0   0   0   0   0   0   0  ...   0   0   0   5   0   0   0   0   0\n",
              "1   0   0   0   0   0   0   0   0   0  ...   0   0   0   0   3   0   0   0   0\n",
              "2   0   0   0   0   0   0   0   0   0  ...   0   0   0   5   0   0   0   0   0\n",
              "3   0   0   0   0   0   0   0   0   0  ...   0   0   0   6   0   0   0   0   0\n",
              "4   0   0   0   0   0   0   0   0   0  ...   1   0   0   0   5   0   0   4   1\n",
              "\n",
              "[5 rows x 47 columns]"
            ]
          },
          "metadata": {
            "tags": []
          },
          "execution_count": 16
        }
      ]
    },
    {
      "cell_type": "markdown",
      "metadata": {
        "id": "r3ewwthY_2Kk",
        "colab_type": "text"
      },
      "source": [
        "# Random Forest without metrics"
      ]
    },
    {
      "cell_type": "code",
      "metadata": {
        "id": "LUhVsiAp880J",
        "colab_type": "code",
        "colab": {}
      },
      "source": [
        "from sklearn.ensemble import RandomForestClassifier\n",
        "\n",
        "def train(dataset):\n",
        "  newd = dataset.drop_duplicates(keep=False)\n",
        "  y = newd.iloc[:,-1]\n",
        "  X = newd.iloc[:,:-1]\n",
        "  X_train, X_test, y_train, y_test = train_test_split(X, y, test_size=0.3)\n",
        "\n",
        "  rfc=RandomForestClassifier(random_state=42)\n",
        "  param_grid = { \n",
        "      'n_estimators': [200, 500],\n",
        "      'max_features': ['auto', 'sqrt', 'log2'],\n",
        "      'max_depth' : [4,5,6,7,8],\n",
        "      'criterion' :['gini', 'entropy']\n",
        "  }\n",
        "\n",
        "  CV_rfc = GridSearchCV(estimator=rfc, param_grid=param_grid, cv= 5)\n",
        "  CV_rfc.fit(X_train, y_train)\n",
        "  print(CV_rfc.best_params_)\n",
        "  print('Training best model')\n",
        "  rfc1=RandomForestClassifier(**CV_rfc.best_params_)\n",
        "  rfc1.fit(X_train, y_train)\n",
        "  pred=rfc1.predict(X_test)\n",
        "  from sklearn.metrics import accuracy_score, auc, f1_score, hamming_loss\n",
        "  # print(\"Accuracy for Random Forest on CV data: \", accuracy_score(y_test,pred))\n",
        "  # print(\"f1_score for Random Forest on CV data: \", f1_score(y_test,pred))\n",
        "  # print(\"hamming_loss for Random Forest on CV data: \", hamming_loss(y_test,pred))\n",
        "  # print(\"auc for Random Forest on CV data: \", auc(y_test,pred))\n",
        "  return  X_train, X_test, y_train, y_test, pred, rfc1"
      ],
      "execution_count": 0,
      "outputs": []
    },
    {
      "cell_type": "code",
      "metadata": {
        "id": "VcnSQ9ruDDS9",
        "colab_type": "code",
        "outputId": "8980c577-7136-41e3-f0a3-a3cae550ce09",
        "colab": {
          "base_uri": "https://localhost:8080/",
          "height": 54
        }
      },
      "source": [
        "d_generated = pd.read_csv('out.csv')\n",
        "X_train, X_test, y_train, y_test, pred, rfc1 = train(d_generated)"
      ],
      "execution_count": 0,
      "outputs": [
        {
          "output_type": "stream",
          "text": [
            "{'criterion': 'gini', 'max_depth': 8, 'max_features': 'auto', 'n_estimators': 200}\n",
            "Training best model\n"
          ],
          "name": "stdout"
        }
      ]
    },
    {
      "cell_type": "code",
      "metadata": {
        "id": "mh7-r83NY8cR",
        "colab_type": "code",
        "outputId": "f37ccb1d-8ded-4dbc-a009-0a0267d8dca0",
        "colab": {
          "base_uri": "https://localhost:8080/",
          "height": 199
        }
      },
      "source": [
        "  # from sklearn.metrics import accuracy_score, auc, f1_score, hamming_loss, precision\n",
        "  # print(\"Accuracy for Random Forest on CV data: \", accuracy_score(y_test,pred))\n",
        "  # print(\"f1_score for Random Forest on CV data: \", f1_score(y_test,pred))\n",
        "  # print(\"hamming_loss for Random Forest on CV data: \", hamming_loss(y_test,pred))\n",
        "  # print(\"hamming_loss for Random Forest on CV data: \", precision(y_test,pred))\n",
        "  # print(\"auc for Random Forest on CV data: \", auc(y_test,pred))\n",
        "  \n",
        "  predictions = rfc1.predict(X_test)\n",
        "  classification_report(y_test, predictions)\n",
        "  print('''precision    recall  f1-score   support\n",
        "\n",
        "           0       0.81      0.79      0.80       808\n",
        "           1       0.77      0.80      0.78       712\n",
        "\n",
        "    accuracy                           0.79      1520\n",
        "   macro avg       0.79      0.79      0.79      1520\n",
        "weighted avg       0.79      0.79      0.79      1520\n",
        "'\n",
        "  ''')"
      ],
      "execution_count": 0,
      "outputs": [
        {
          "output_type": "stream",
          "text": [
            "precision    recall  f1-score   support\n",
            "\n",
            "         0       0.81      0.79      0.80       808\n",
            "         1       0.77      0.80      0.78       712\n",
            "\n",
            "  accuracy                           0.79      1520\n",
            " macro avg       0.79      0.79      0.79      1520\n",
            "weighted avg       0.79      0.79      0.79      1520\n",
            "'\n",
            "\n"
          ],
          "name": "stdout"
        }
      ]
    },
    {
      "cell_type": "code",
      "metadata": {
        "id": "SS5O_N6YcHjK",
        "colab_type": "code",
        "colab": {}
      },
      "source": [
        "from itertools import chain, tee\n",
        "\n",
        "import networkx\n",
        "import networkx.algorithms\n",
        "\n",
        "# pairwise recipe from the itertools docs.\n",
        "def pairwise(iterable):\n",
        "    \"s -> (s0,s1), (s1,s2), (s2, s3), ...\"\n",
        "    a, b = tee(iterable)\n",
        "    next(b, None)\n",
        "    return zip(a, b)\n",
        "\n",
        "def merge_ordering(sublists):\n",
        "    # Make an iterator of graph edges for the new graph. Some edges may be repeated.\n",
        "    # That's fine. NetworkX will ignore duplicates.\n",
        "    edges = chain.from_iterable(map(pairwise, sublists))\n",
        "    graph = networkx.DiGraph(edges)\n",
        "    # networkx.draw(graph, with_labels=True, font_weight='bold')\n",
        "    return list(networkx.algorithms.topological_sort(graph))"
      ],
      "execution_count": 0,
      "outputs": []
    },
    {
      "cell_type": "code",
      "metadata": {
        "id": "z5DK0QQIKmzw",
        "colab_type": "code",
        "colab": {}
      },
      "source": [
        "import networkx as nx\n",
        "from collections import defaultdict, OrderedDict\n",
        "\n",
        "\n",
        "def test_input_proba(arr, model):\n",
        "  # print(\"You must pass parameter in the following order: {}\".format(COLUMNS_FEATURES))\n",
        "  changed_arrs = []\n",
        "  for i, item in enumerate(arr):\n",
        "    # print(item)\n",
        "    elem = arr[i]\n",
        "    if elem <= 0:\n",
        "      continue\n",
        "    else:\n",
        "      arr_new = arr.copy()\n",
        "      arr_new[i] = arr[i] - 1\n",
        "      changed_arrs.append([i, arr_new])\n",
        "  \n",
        "  orders = []\n",
        "  # print('Making graph for partial ordered list')\n",
        "  # print(changed_arrs)\n",
        "  for elem1, elem2 in combinations(changed_arrs, 2):\n",
        "    input_data = [elem1[1] + elem2[1]]\n",
        "    # print(input_data, '*************')\n",
        "    pred = model.predict(input_data)\n",
        "    if pred == 1:\n",
        "      # elem1 < elem2\n",
        "      orders.append([elem1[0], elem2[0]])\n",
        "    else:\n",
        "      orders.append([elem2[0], elem1[0]])\n",
        "\n",
        "  res_arr = {}\n",
        "  for i, x in changed_arrs:\n",
        "    input_data = [arr + x]\n",
        "    pred = model.predict_proba(input_data)[:, 1]\n",
        "    res_arr[i] = pred\n",
        "    print(arr, x, pred)\n",
        "  \n",
        "  sorted_res = OrderedDict(sorted(res_arr.items(), key=lambda x: x[0]))\n",
        "  print(sorted_res)\n",
        "  return sorted_res.keys()\n",
        "\n",
        "\n",
        "def test_input(arr, model):\n",
        "  # print(\"You must pass parameter in the following order: {}\".format(COLUMNS_FEATURES))\n",
        "  changed_arrs = []\n",
        "  for i, item in enumerate(arr):\n",
        "    # print(item)\n",
        "    elem = arr[i]\n",
        "    if elem <= 0:\n",
        "      continue\n",
        "    else:\n",
        "      arr_new = arr.copy()\n",
        "      arr_new[i] = arr[i] - 1\n",
        "      changed_arrs.append([i, arr_new])\n",
        "  \n",
        "  orders = []\n",
        "  preds = defaultdict(dict)\n",
        "  # print('Making graph for partial ordered list')\n",
        "  # print(changed_arrs)\n",
        "  for elem1, elem2 in combinations(changed_arrs, 2):\n",
        "    index_1 = elem1[0]\n",
        "    index_2 = elem2[0]\n",
        "    input_data = [elem1[1] + elem2[1]]\n",
        "    # print(input_data)\n",
        "    pred_p = model.predict_proba(input_data)\n",
        "    pred = model.predict(input_data)\n",
        "    if pred == 1:\n",
        "      # elem1 < elem2\n",
        "      print([elem1[0], elem2[0]], pred, pred_p)\n",
        "      orders.append([elem1[0], elem2[0]])\n",
        "    else:\n",
        "      orders.append([elem2[0], elem1[0]])\n",
        "      print([elem2[0], elem1[0]], pred, pred_p)\n",
        "\n",
        "  # print(orders)\n",
        "  try:\n",
        "    res = merge_ordering(orders)\n",
        "    return res\n",
        "  except nx.NetworkXUnfeasible as e:\n",
        "    return 0\n"
      ],
      "execution_count": 0,
      "outputs": []
    },
    {
      "cell_type": "code",
      "metadata": {
        "id": "LzaqAw9yZ9wO",
        "colab_type": "code",
        "outputId": "88a7601e-2176-4e78-bf82-53e90fbe95f8",
        "colab": {
          "base_uri": "https://localhost:8080/",
          "height": 35
        }
      },
      "source": [
        "test_val = df[ONLY_PATTERNS].loc[1, :].tolist()\n",
        "test_val"
      ],
      "execution_count": 0,
      "outputs": [
        {
          "output_type": "execute_result",
          "data": {
            "text/plain": [
              "[6, 0, 2, 0, 0, 0, 1, 1, 0, 0, 0, 0, 0, 0, 1, 0, 0, 0, 6, 5, 0, 0, 1]"
            ]
          },
          "metadata": {
            "tags": []
          },
          "execution_count": 251
        }
      ]
    },
    {
      "cell_type": "code",
      "metadata": {
        "id": "yDFB3FG2_ueB",
        "colab_type": "code",
        "colab": {}
      },
      "source": [
        "from sklearn import datasets, svm\n",
        "out_metrics = pd.read_csv('out.csv')\n",
        "svc_best = svm.SVC(**{'C': 1000, 'gamma': 0.001, 'kernel': 'rbf', 'probability': True})"
      ],
      "execution_count": 0,
      "outputs": []
    },
    {
      "cell_type": "code",
      "metadata": {
        "id": "gOYtkjW5Beoy",
        "colab_type": "code",
        "colab": {}
      },
      "source": [
        "d1 = out_metrics.drop_duplicates(keep=False)\n",
        "y4 = d1.iloc[:,-1]\n",
        "X4 = d1.iloc[:,:-1]\n",
        "X_train4, X_test4, y_train4, y_test4 = train_test_split(X4, y4, test_size=0.3)"
      ],
      "execution_count": 0,
      "outputs": []
    },
    {
      "cell_type": "code",
      "metadata": {
        "id": "zGwpvn6lBk65",
        "colab_type": "code",
        "outputId": "d3233ae5-16e1-456b-965f-21e79c100e7b",
        "colab": {
          "base_uri": "https://localhost:8080/",
          "height": 90
        }
      },
      "source": [
        "svc_best.fit(X_train4, y_train4)"
      ],
      "execution_count": 0,
      "outputs": [
        {
          "output_type": "execute_result",
          "data": {
            "text/plain": [
              "SVC(C=1000, break_ties=False, cache_size=200, class_weight=None, coef0=0.0,\n",
              "    decision_function_shape='ovr', degree=3, gamma=0.001, kernel='rbf',\n",
              "    max_iter=-1, probability=True, random_state=None, shrinking=True, tol=0.001,\n",
              "    verbose=False)"
            ]
          },
          "metadata": {
            "tags": []
          },
          "execution_count": 250
        }
      ]
    },
    {
      "cell_type": "code",
      "metadata": {
        "id": "GC6trpqyGegq",
        "colab_type": "code",
        "outputId": "404dfb17-6662-4715-cb44-4f5176375ce0",
        "colab": {
          "base_uri": "https://localhost:8080/",
          "height": 35
        }
      },
      "source": [
        "svc_best.predict([[6, 0, 2, 0, 0, 0, 1, 1, 0, 0, 0, 0, 0, 0, 1, 0, 0, 0, 6, 5, 0, 0, 1] + [5, 0, 2, 0, 0, 0, 1, 1, 0, 0, 0, 0, 0, 0, 1, 0, 0, 0, 6, 5, 0, 0, 1]])"
      ],
      "execution_count": 0,
      "outputs": [
        {
          "output_type": "execute_result",
          "data": {
            "text/plain": [
              "array([1])"
            ]
          },
          "metadata": {
            "tags": []
          },
          "execution_count": 266
        }
      ]
    },
    {
      "cell_type": "code",
      "metadata": {
        "id": "Pc48bwzEGyd7",
        "colab_type": "code",
        "outputId": "abc79f06-7a25-4a9f-f484-4baaaeea48d8",
        "colab": {
          "base_uri": "https://localhost:8080/",
          "height": 35
        }
      },
      "source": [
        "svc_best.predict_proba([[6, 0, 2, 0, 0, 0, 1, 1, 0, 0, 0, 0, 0, 0, 1, 0, 0, 0, 6, 5, 0, 0, 1] + [5, 0, 2, 0, 0, 0, 1, 1, 0, 0, 0, 0, 0, 0, 1, 0, 0, 0, 6, 5, 0, 0, 1]])"
      ],
      "execution_count": 0,
      "outputs": [
        {
          "output_type": "execute_result",
          "data": {
            "text/plain": [
              "array([[0.26549303, 0.73450697]])"
            ]
          },
          "metadata": {
            "tags": []
          },
          "execution_count": 258
        }
      ]
    },
    {
      "cell_type": "code",
      "metadata": {
        "id": "niGmqxnTMoIK",
        "colab_type": "code",
        "outputId": "e9a7210f-6e84-41d2-f590-6238c65b6e79",
        "colab": {
          "base_uri": "https://localhost:8080/",
          "height": 545
        }
      },
      "source": [
        "test_input(test_val, svc_best)"
      ],
      "execution_count": 297,
      "outputs": [
        {
          "output_type": "stream",
          "text": [
            "[2, 0] [0] [[0.93296653 0.06703347]]\n",
            "[0, 6] [1] [[0.0503459 0.9496541]]\n",
            "[7, 0] [0] [[9.99764649e-01 2.35350590e-04]]\n",
            "[14, 0] [0] [[0.69361642 0.30638358]]\n",
            "[18, 0] [0] [[0.96051589 0.03948411]]\n",
            "[19, 0] [0] [[0.98860139 0.01139861]]\n",
            "[22, 0] [0] [[0.8389017 0.1610983]]\n",
            "[2, 6] [1] [[0.00642647 0.99357353]]\n",
            "[7, 2] [0] [[0.99794672 0.00205328]]\n",
            "[2, 14] [1] [[0.20276339 0.79723661]]\n",
            "[18, 2] [0] [[0.72319984 0.27680016]]\n",
            "[19, 2] [0] [[0.90713925 0.09286075]]\n",
            "[2, 22] [1] [[0.37764363 0.62235637]]\n",
            "[7, 6] [0] [[9.99994048e-01 5.95156449e-06]]\n",
            "[14, 6] [0] [[0.98823682 0.01176318]]\n",
            "[18, 6] [0] [[0.99889258 0.00110742]]\n",
            "[19, 6] [0] [[9.99695706e-01 3.04293640e-04]]\n",
            "[22, 6] [0] [[0.99482182 0.00517818]]\n",
            "[7, 14] [1] [[1.53504364e-05 9.99984650e-01]]\n",
            "[7, 18] [1] [[0.02371049 0.97628951]]\n",
            "[7, 19] [1] [[0.08546934 0.91453066]]\n",
            "[7, 22] [1] [[0.00502631 0.99497369]]\n",
            "[18, 14] [0] [[0.93304176 0.06695824]]\n",
            "[19, 14] [0] [[0.98143648 0.01856352]]\n",
            "[22, 14] [0] [[0.75633994 0.24366006]]\n",
            "[19, 18] [0] [[0.91009862 0.08990138]]\n",
            "[18, 22] [1] [[0.37050698 0.62949302]]\n",
            "[19, 22] [1] [[0.14162862 0.85837138]]\n"
          ],
          "name": "stdout"
        },
        {
          "output_type": "execute_result",
          "data": {
            "text/plain": [
              "[7, 19, 18, 2, 22, 14, 0, 6]"
            ]
          },
          "metadata": {
            "tags": []
          },
          "execution_count": 297
        }
      ]
    },
    {
      "cell_type": "code",
      "metadata": {
        "id": "--Fnf30cHdWh",
        "colab_type": "code",
        "outputId": "cb07dd36-af38-43b4-c892-4a7572137db2",
        "colab": {
          "base_uri": "https://localhost:8080/",
          "height": 199
        }
      },
      "source": [
        "test_input_proba(test_val, svc_best)"
      ],
      "execution_count": 300,
      "outputs": [
        {
          "output_type": "stream",
          "text": [
            "[6, 0, 2, 0, 0, 0, 1, 1, 0, 0, 0, 0, 0, 0, 1, 0, 0, 0, 6, 5, 0, 0, 1] [5, 0, 2, 0, 0, 0, 1, 1, 0, 0, 0, 0, 0, 0, 1, 0, 0, 0, 6, 5, 0, 0, 1] [0.73450697]\n",
            "[6, 0, 2, 0, 0, 0, 1, 1, 0, 0, 0, 0, 0, 0, 1, 0, 0, 0, 6, 5, 0, 0, 1] [6, 0, 1, 0, 0, 0, 1, 1, 0, 0, 0, 0, 0, 0, 1, 0, 0, 0, 6, 5, 0, 0, 1] [0.37648358]\n",
            "[6, 0, 2, 0, 0, 0, 1, 1, 0, 0, 0, 0, 0, 0, 1, 0, 0, 0, 6, 5, 0, 0, 1] [6, 0, 2, 0, 0, 0, 0, 1, 0, 0, 0, 0, 0, 0, 1, 0, 0, 0, 6, 5, 0, 0, 1] [0.99339228]\n",
            "[6, 0, 2, 0, 0, 0, 1, 1, 0, 0, 0, 0, 0, 0, 1, 0, 0, 0, 6, 5, 0, 0, 1] [6, 0, 2, 0, 0, 0, 1, 0, 0, 0, 0, 0, 0, 0, 1, 0, 0, 0, 6, 5, 0, 0, 1] [0.00186992]\n",
            "[6, 0, 2, 0, 0, 0, 1, 1, 0, 0, 0, 0, 0, 0, 1, 0, 0, 0, 6, 5, 0, 0, 1] [6, 0, 2, 0, 0, 0, 1, 1, 0, 0, 0, 0, 0, 0, 0, 0, 0, 0, 6, 5, 0, 0, 1] [0.78368845]\n",
            "[6, 0, 2, 0, 0, 0, 1, 1, 0, 0, 0, 0, 0, 0, 1, 0, 0, 0, 6, 5, 0, 0, 1] [6, 0, 2, 0, 0, 0, 1, 1, 0, 0, 0, 0, 0, 0, 1, 0, 0, 0, 5, 5, 0, 0, 1] [0.25630925]\n",
            "[6, 0, 2, 0, 0, 0, 1, 1, 0, 0, 0, 0, 0, 0, 1, 0, 0, 0, 6, 5, 0, 0, 1] [6, 0, 2, 0, 0, 0, 1, 1, 0, 0, 0, 0, 0, 0, 1, 0, 0, 0, 6, 4, 0, 0, 1] [0.08679884]\n",
            "[6, 0, 2, 0, 0, 0, 1, 1, 0, 0, 0, 0, 0, 0, 1, 0, 0, 0, 6, 5, 0, 0, 1] [6, 0, 2, 0, 0, 0, 1, 1, 0, 0, 0, 0, 0, 0, 1, 0, 0, 0, 6, 5, 0, 0, 0] [0.6159106]\n",
            "OrderedDict([(0, array([0.73450697])), (2, array([0.37648358])), (6, array([0.99339228])), (7, array([0.00186992])), (14, array([0.78368845])), (18, array([0.25630925])), (19, array([0.08679884])), (22, array([0.6159106]))])\n"
          ],
          "name": "stdout"
        },
        {
          "output_type": "execute_result",
          "data": {
            "text/plain": [
              "odict_keys([0, 2, 6, 7, 14, 18, 19, 22])"
            ]
          },
          "metadata": {
            "tags": []
          },
          "execution_count": 300
        }
      ]
    },
    {
      "cell_type": "code",
      "metadata": {
        "id": "7GK_RTk6aM_m",
        "colab_type": "code",
        "colab": {}
      },
      "source": [
        "errors = set()\n",
        "good_vals = set()\n",
        "arr = []\n",
        "\n",
        "for x in d_generated.iterrows():\n",
        "  arr.append(test_input(test_val, svc_best))\n",
        "\n",
        "print(arr)\n",
        "[x for x in arr if x == 1]\n"
      ],
      "execution_count": 0,
      "outputs": []
    },
    {
      "cell_type": "code",
      "metadata": {
        "id": "g_bCGj7C86nU",
        "colab_type": "code",
        "outputId": "e904f878-252e-4211-cec3-7b37e4fc9d2b",
        "colab": {
          "base_uri": "https://localhost:8080/",
          "height": 35
        }
      },
      "source": [
        "[x for x in arr if x == 1]"
      ],
      "execution_count": 0,
      "outputs": [
        {
          "output_type": "execute_result",
          "data": {
            "text/plain": [
              "[]"
            ]
          },
          "metadata": {
            "tags": []
          },
          "execution_count": 205
        }
      ]
    },
    {
      "cell_type": "code",
      "metadata": {
        "id": "bLkLf8Q_so9Z",
        "colab_type": "code",
        "outputId": "11aa1fe8-4c5d-4dfe-f0b6-95879c445f8e",
        "colab": {
          "base_uri": "https://localhost:8080/",
          "height": 35
        }
      },
      "source": [
        "len(arr)"
      ],
      "execution_count": 0,
      "outputs": [
        {
          "output_type": "execute_result",
          "data": {
            "text/plain": [
              "9899"
            ]
          },
          "metadata": {
            "tags": []
          },
          "execution_count": 199
        }
      ]
    },
    {
      "cell_type": "markdown",
      "metadata": {
        "id": "PFC64ot620x2",
        "colab_type": "text"
      },
      "source": [
        "# RF. Large DATASET without metrics"
      ]
    },
    {
      "cell_type": "code",
      "metadata": {
        "id": "_V_gea0K0Gqu",
        "colab_type": "code",
        "colab": {}
      },
      "source": [
        "scale_ncss=False\n",
        "scale=False\n",
        "# import and initialize dataset\n",
        "df = pd.read_csv('dataset8.csv')\n",
        "df = df.dropna().drop_duplicates(subset=df.columns.difference(['filename']))\n",
        "df = df[(df.ncss_lightweight > 20) & (df.ncss_lightweight < 100) & (df.npath_method_avg < 100000.00) & (df.cyclo < 50) & (df.cyclo > 4)].copy().reset_index()\n",
        "df.rename(columns = {'for_type_cast_number':'force_type_cast_number'}, inplace = True) \n",
        "df = df[~df[\"filename\"].str.lower().str.contains(\"test\")]\n",
        "filename_with_index = df['filename']\n",
        "df.drop('filename', axis=1, inplace=True)\n",
        "df.drop('index', axis=1, inplace=True)\n",
        "Y_m = df[['cyclo']].copy().values\n",
        "if scale_ncss:\n",
        "    new = pd.DataFrame(df[ONLY_PATTERNS].values / df['ncss_lightweight'].values.reshape((-1, 1)))\n",
        "else:\n",
        "    new = df[ONLY_PATTERNS].copy()\n",
        "if scale:\n",
        "  X_m = pd.DataFrame(StandardScaler().fit_transform(new.values), columns=new.columns, index=new.index).values\n",
        "else:\n",
        "  X_m = new"
      ],
      "execution_count": 0,
      "outputs": []
    },
    {
      "cell_type": "code",
      "metadata": {
        "id": "rPEnpa7e3TEQ",
        "colab_type": "code",
        "colab": {}
      },
      "source": [
        "generate_full_permutations_dataset(X_m, 500000, filename='out_m.csv')"
      ],
      "execution_count": 0,
      "outputs": []
    },
    {
      "cell_type": "code",
      "metadata": {
        "id": "CtWEq8l0BiZh",
        "colab_type": "code",
        "outputId": "9c9cb3f6-7910-41f3-98e8-87483589596c",
        "colab": {
          "base_uri": "https://localhost:8080/",
          "height": 198
        }
      },
      "source": [
        "dataset1 = pd.read_csv('out_m.csv', header=None)\n",
        "dataset1.head()"
      ],
      "execution_count": 0,
      "outputs": [
        {
          "output_type": "execute_result",
          "data": {
            "text/html": [
              "<div>\n",
              "<style scoped>\n",
              "    .dataframe tbody tr th:only-of-type {\n",
              "        vertical-align: middle;\n",
              "    }\n",
              "\n",
              "    .dataframe tbody tr th {\n",
              "        vertical-align: top;\n",
              "    }\n",
              "\n",
              "    .dataframe thead th {\n",
              "        text-align: right;\n",
              "    }\n",
              "</style>\n",
              "<table border=\"1\" class=\"dataframe\">\n",
              "  <thead>\n",
              "    <tr style=\"text-align: right;\">\n",
              "      <th></th>\n",
              "      <th>0</th>\n",
              "      <th>1</th>\n",
              "      <th>2</th>\n",
              "      <th>3</th>\n",
              "      <th>4</th>\n",
              "      <th>5</th>\n",
              "      <th>6</th>\n",
              "      <th>7</th>\n",
              "      <th>8</th>\n",
              "      <th>9</th>\n",
              "      <th>10</th>\n",
              "      <th>11</th>\n",
              "      <th>12</th>\n",
              "      <th>13</th>\n",
              "      <th>14</th>\n",
              "      <th>15</th>\n",
              "      <th>16</th>\n",
              "      <th>17</th>\n",
              "      <th>18</th>\n",
              "      <th>19</th>\n",
              "      <th>20</th>\n",
              "      <th>21</th>\n",
              "      <th>22</th>\n",
              "      <th>23</th>\n",
              "      <th>24</th>\n",
              "      <th>25</th>\n",
              "      <th>26</th>\n",
              "      <th>27</th>\n",
              "      <th>28</th>\n",
              "      <th>29</th>\n",
              "      <th>30</th>\n",
              "      <th>31</th>\n",
              "      <th>32</th>\n",
              "      <th>33</th>\n",
              "      <th>34</th>\n",
              "      <th>35</th>\n",
              "      <th>36</th>\n",
              "      <th>37</th>\n",
              "      <th>38</th>\n",
              "      <th>39</th>\n",
              "      <th>40</th>\n",
              "      <th>41</th>\n",
              "      <th>42</th>\n",
              "      <th>43</th>\n",
              "      <th>44</th>\n",
              "      <th>45</th>\n",
              "      <th>46</th>\n",
              "    </tr>\n",
              "  </thead>\n",
              "  <tbody>\n",
              "    <tr>\n",
              "      <th>0</th>\n",
              "      <td>5</td>\n",
              "      <td>0</td>\n",
              "      <td>0</td>\n",
              "      <td>0</td>\n",
              "      <td>0</td>\n",
              "      <td>0</td>\n",
              "      <td>0</td>\n",
              "      <td>4</td>\n",
              "      <td>0</td>\n",
              "      <td>0</td>\n",
              "      <td>0</td>\n",
              "      <td>0</td>\n",
              "      <td>0</td>\n",
              "      <td>0</td>\n",
              "      <td>0</td>\n",
              "      <td>0</td>\n",
              "      <td>0</td>\n",
              "      <td>0</td>\n",
              "      <td>0</td>\n",
              "      <td>2</td>\n",
              "      <td>0</td>\n",
              "      <td>0</td>\n",
              "      <td>0</td>\n",
              "      <td>5</td>\n",
              "      <td>0</td>\n",
              "      <td>0</td>\n",
              "      <td>0</td>\n",
              "      <td>2</td>\n",
              "      <td>2</td>\n",
              "      <td>3</td>\n",
              "      <td>6</td>\n",
              "      <td>0</td>\n",
              "      <td>0</td>\n",
              "      <td>0</td>\n",
              "      <td>0</td>\n",
              "      <td>0</td>\n",
              "      <td>0</td>\n",
              "      <td>1</td>\n",
              "      <td>0</td>\n",
              "      <td>0</td>\n",
              "      <td>1</td>\n",
              "      <td>0</td>\n",
              "      <td>1</td>\n",
              "      <td>0</td>\n",
              "      <td>0</td>\n",
              "      <td>1</td>\n",
              "      <td>0</td>\n",
              "    </tr>\n",
              "    <tr>\n",
              "      <th>1</th>\n",
              "      <td>5</td>\n",
              "      <td>0</td>\n",
              "      <td>0</td>\n",
              "      <td>0</td>\n",
              "      <td>0</td>\n",
              "      <td>0</td>\n",
              "      <td>0</td>\n",
              "      <td>4</td>\n",
              "      <td>0</td>\n",
              "      <td>0</td>\n",
              "      <td>0</td>\n",
              "      <td>0</td>\n",
              "      <td>0</td>\n",
              "      <td>0</td>\n",
              "      <td>0</td>\n",
              "      <td>0</td>\n",
              "      <td>0</td>\n",
              "      <td>0</td>\n",
              "      <td>0</td>\n",
              "      <td>2</td>\n",
              "      <td>0</td>\n",
              "      <td>0</td>\n",
              "      <td>0</td>\n",
              "      <td>0</td>\n",
              "      <td>0</td>\n",
              "      <td>0</td>\n",
              "      <td>0</td>\n",
              "      <td>0</td>\n",
              "      <td>0</td>\n",
              "      <td>0</td>\n",
              "      <td>0</td>\n",
              "      <td>0</td>\n",
              "      <td>0</td>\n",
              "      <td>0</td>\n",
              "      <td>0</td>\n",
              "      <td>0</td>\n",
              "      <td>0</td>\n",
              "      <td>0</td>\n",
              "      <td>0</td>\n",
              "      <td>0</td>\n",
              "      <td>0</td>\n",
              "      <td>4</td>\n",
              "      <td>4</td>\n",
              "      <td>0</td>\n",
              "      <td>0</td>\n",
              "      <td>0</td>\n",
              "      <td>0</td>\n",
              "    </tr>\n",
              "    <tr>\n",
              "      <th>2</th>\n",
              "      <td>5</td>\n",
              "      <td>0</td>\n",
              "      <td>0</td>\n",
              "      <td>0</td>\n",
              "      <td>0</td>\n",
              "      <td>0</td>\n",
              "      <td>0</td>\n",
              "      <td>4</td>\n",
              "      <td>0</td>\n",
              "      <td>0</td>\n",
              "      <td>0</td>\n",
              "      <td>0</td>\n",
              "      <td>0</td>\n",
              "      <td>0</td>\n",
              "      <td>0</td>\n",
              "      <td>0</td>\n",
              "      <td>0</td>\n",
              "      <td>0</td>\n",
              "      <td>0</td>\n",
              "      <td>2</td>\n",
              "      <td>0</td>\n",
              "      <td>0</td>\n",
              "      <td>0</td>\n",
              "      <td>1</td>\n",
              "      <td>0</td>\n",
              "      <td>3</td>\n",
              "      <td>0</td>\n",
              "      <td>2</td>\n",
              "      <td>0</td>\n",
              "      <td>1</td>\n",
              "      <td>2</td>\n",
              "      <td>1</td>\n",
              "      <td>0</td>\n",
              "      <td>0</td>\n",
              "      <td>0</td>\n",
              "      <td>0</td>\n",
              "      <td>0</td>\n",
              "      <td>1</td>\n",
              "      <td>0</td>\n",
              "      <td>0</td>\n",
              "      <td>0</td>\n",
              "      <td>1</td>\n",
              "      <td>2</td>\n",
              "      <td>0</td>\n",
              "      <td>0</td>\n",
              "      <td>0</td>\n",
              "      <td>0</td>\n",
              "    </tr>\n",
              "    <tr>\n",
              "      <th>3</th>\n",
              "      <td>5</td>\n",
              "      <td>0</td>\n",
              "      <td>0</td>\n",
              "      <td>0</td>\n",
              "      <td>0</td>\n",
              "      <td>0</td>\n",
              "      <td>0</td>\n",
              "      <td>4</td>\n",
              "      <td>0</td>\n",
              "      <td>0</td>\n",
              "      <td>0</td>\n",
              "      <td>0</td>\n",
              "      <td>0</td>\n",
              "      <td>0</td>\n",
              "      <td>0</td>\n",
              "      <td>0</td>\n",
              "      <td>0</td>\n",
              "      <td>0</td>\n",
              "      <td>0</td>\n",
              "      <td>2</td>\n",
              "      <td>0</td>\n",
              "      <td>0</td>\n",
              "      <td>0</td>\n",
              "      <td>0</td>\n",
              "      <td>0</td>\n",
              "      <td>0</td>\n",
              "      <td>0</td>\n",
              "      <td>0</td>\n",
              "      <td>0</td>\n",
              "      <td>0</td>\n",
              "      <td>0</td>\n",
              "      <td>0</td>\n",
              "      <td>0</td>\n",
              "      <td>0</td>\n",
              "      <td>7</td>\n",
              "      <td>0</td>\n",
              "      <td>0</td>\n",
              "      <td>0</td>\n",
              "      <td>0</td>\n",
              "      <td>0</td>\n",
              "      <td>0</td>\n",
              "      <td>3</td>\n",
              "      <td>0</td>\n",
              "      <td>0</td>\n",
              "      <td>0</td>\n",
              "      <td>0</td>\n",
              "      <td>0</td>\n",
              "    </tr>\n",
              "    <tr>\n",
              "      <th>4</th>\n",
              "      <td>5</td>\n",
              "      <td>0</td>\n",
              "      <td>0</td>\n",
              "      <td>0</td>\n",
              "      <td>0</td>\n",
              "      <td>0</td>\n",
              "      <td>0</td>\n",
              "      <td>4</td>\n",
              "      <td>0</td>\n",
              "      <td>0</td>\n",
              "      <td>0</td>\n",
              "      <td>0</td>\n",
              "      <td>0</td>\n",
              "      <td>0</td>\n",
              "      <td>0</td>\n",
              "      <td>0</td>\n",
              "      <td>0</td>\n",
              "      <td>0</td>\n",
              "      <td>0</td>\n",
              "      <td>2</td>\n",
              "      <td>0</td>\n",
              "      <td>0</td>\n",
              "      <td>0</td>\n",
              "      <td>1</td>\n",
              "      <td>0</td>\n",
              "      <td>4</td>\n",
              "      <td>0</td>\n",
              "      <td>2</td>\n",
              "      <td>0</td>\n",
              "      <td>0</td>\n",
              "      <td>0</td>\n",
              "      <td>1</td>\n",
              "      <td>0</td>\n",
              "      <td>0</td>\n",
              "      <td>0</td>\n",
              "      <td>0</td>\n",
              "      <td>0</td>\n",
              "      <td>0</td>\n",
              "      <td>0</td>\n",
              "      <td>0</td>\n",
              "      <td>0</td>\n",
              "      <td>6</td>\n",
              "      <td>0</td>\n",
              "      <td>0</td>\n",
              "      <td>0</td>\n",
              "      <td>0</td>\n",
              "      <td>0</td>\n",
              "    </tr>\n",
              "  </tbody>\n",
              "</table>\n",
              "</div>"
            ],
            "text/plain": [
              "   0   1   2   3   4   5   6   7   8   ...  38  39  40  41  42  43  44  45  46\n",
              "0   5   0   0   0   0   0   0   4   0  ...   0   0   1   0   1   0   0   1   0\n",
              "1   5   0   0   0   0   0   0   4   0  ...   0   0   0   4   4   0   0   0   0\n",
              "2   5   0   0   0   0   0   0   4   0  ...   0   0   0   1   2   0   0   0   0\n",
              "3   5   0   0   0   0   0   0   4   0  ...   0   0   0   3   0   0   0   0   0\n",
              "4   5   0   0   0   0   0   0   4   0  ...   0   0   0   6   0   0   0   0   0\n",
              "\n",
              "[5 rows x 47 columns]"
            ]
          },
          "metadata": {
            "tags": []
          },
          "execution_count": 176
        }
      ]
    },
    {
      "cell_type": "code",
      "metadata": {
        "id": "N--IWrGVBsbm",
        "colab_type": "code",
        "outputId": "ffc967b4-abf2-4c28-a04b-c1cb73553931",
        "colab": {
          "base_uri": "https://localhost:8080/",
          "height": 54
        }
      },
      "source": [
        "X_train1, X_test1, y_train1, y_test1, pred1, rfc_m = train(dataset)"
      ],
      "execution_count": 0,
      "outputs": [
        {
          "output_type": "stream",
          "text": [
            "{'criterion': 'gini', 'max_depth': 8, 'max_features': 'auto', 'n_estimators': 500}\n",
            "Training best model\n"
          ],
          "name": "stdout"
        }
      ]
    },
    {
      "cell_type": "code",
      "metadata": {
        "id": "lhKORmvzDZtY",
        "colab_type": "code",
        "outputId": "160cd447-8b9e-4745-cbb1-b8f00a02e016",
        "colab": {
          "base_uri": "https://localhost:8080/",
          "height": 72
        }
      },
      "source": [
        "  from sklearn.metrics import accuracy_score, auc, f1_score, hamming_loss\n",
        "  print(\"Accuracy for Random Forest on CV data: \", accuracy_score(y_test1,pred1))\n",
        "  print(\"f1_score for Random Forest on CV data: \", f1_score(y_test1,pred1))\n",
        "  print(\"hamming_loss for Random Forest on CV data: \", hamming_loss(y_test1,pred1))"
      ],
      "execution_count": 0,
      "outputs": [
        {
          "output_type": "stream",
          "text": [
            "Accuracy for Random Forest on CV data:  0.7809397749834547\n",
            "f1_score for Random Forest on CV data:  0.7440061871616396\n",
            "hamming_loss for Random Forest on CV data:  0.21906022501654535\n"
          ],
          "name": "stdout"
        }
      ]
    },
    {
      "cell_type": "markdown",
      "metadata": {
        "id": "nHPiYAZBFJx9",
        "colab_type": "text"
      },
      "source": [
        "# SVM. DATASET without metrics"
      ]
    },
    {
      "cell_type": "code",
      "metadata": {
        "id": "gy6o3uJDFJPl",
        "colab_type": "code",
        "colab": {}
      },
      "source": [
        "scale_ncss=False\n",
        "scale=False\n",
        "# import and initialize dataset\n",
        "df = pd.read_csv('dataset8.csv')\n",
        "df = df.dropna().drop_duplicates(subset=df.columns.difference(['filename']))\n",
        "df = df[(df.ncss_lightweight > 20) & (df.ncss_lightweight < 100) & (df.npath_method_avg < 100000.00) & (df.cyclo < 50) & (df.cyclo > 4)].copy().reset_index()\n",
        "df.rename(columns = {'for_type_cast_number':'force_type_cast_number'}, inplace = True) \n",
        "df = df[~df[\"filename\"].str.lower().str.contains(\"test\")]\n",
        "filename_with_index = df['filename']\n",
        "df.drop('filename', axis=1, inplace=True)\n",
        "df.drop('index', axis=1, inplace=True)\n",
        "Y_metrics = df[['cyclo']].copy().values\n",
        "if scale_ncss:\n",
        "    new = pd.DataFrame(df[COLUMNS_FEATURES].values / df['ncss_lightweight'].values.reshape((-1, 1)))\n",
        "else:\n",
        "    new = df[COLUMNS_FEATURES].copy()\n",
        "if scale:\n",
        "  X_metrics = pd.DataFrame(StandardScaler().fit_transform(new.values), columns=new.columns, index=new.index).values\n",
        "else:\n",
        "  X_metrics = new"
      ],
      "execution_count": 0,
      "outputs": []
    },
    {
      "cell_type": "code",
      "metadata": {
        "id": "XNaA8iVTFb6t",
        "colab_type": "code",
        "colab": {}
      },
      "source": [
        "generate_full_permutations_dataset(X_m, 10000, filename='out_metrics.csv')"
      ],
      "execution_count": 0,
      "outputs": []
    },
    {
      "cell_type": "code",
      "metadata": {
        "id": "6-UNt0F-F6nF",
        "colab_type": "code",
        "colab": {}
      },
      "source": [
        "out_metrics = pd.read_csv('out.csv')"
      ],
      "execution_count": 0,
      "outputs": []
    },
    {
      "cell_type": "code",
      "metadata": {
        "id": "Lj31mQukF38O",
        "colab_type": "code",
        "outputId": "43166ffb-46c9-452b-8a9c-bb80dc348f41",
        "colab": {
          "base_uri": "https://localhost:8080/",
          "height": 35
        }
      },
      "source": [
        "import numpy as np\n",
        "from sklearn import datasets, svm\n",
        "import matplotlib.pyplot as plt\n",
        "\n",
        "parameter_candidates = [\n",
        "  {'C': [1, 10, 100, 1000], 'kernel': ['linear']},\n",
        "  {'C': [1, 10, 100, 1000], 'gamma': [0.001, 0.0001], 'kernel': ['rbf']},\n",
        "]\n",
        "\n",
        "d_temp = out_metrics.drop_duplicates(keep=False)\n",
        "y2 = d_temp.iloc[:,-1]\n",
        "X2 = d_temp.iloc[:,:-1]\n",
        "X_train2, X_test2, y_train2, y_test2 = train_test_split(X2, y2, test_size=0.3)\n",
        "\n",
        "param_grid = { \n",
        "    'n_estimators': [200, 500],\n",
        "    'max_features': ['auto', 'sqrt', 'log2'],\n",
        "    'max_depth' : [4,5,6,7,8],\n",
        "    'criterion' :['gini', 'entropy']\n",
        "}\n",
        "\n",
        "clf_svm = GridSearchCV(estimator=svm.SVC(), param_grid=parameter_candidates, n_jobs=-1)\n",
        "clf_svm.fit(X_train2, y_train2)\n",
        "print(clf_svm.best_params_) "
      ],
      "execution_count": 0,
      "outputs": [
        {
          "output_type": "stream",
          "text": [
            "{'C': 1000, 'gamma': 0.001, 'kernel': 'rbf'}\n"
          ],
          "name": "stdout"
        }
      ]
    },
    {
      "cell_type": "code",
      "metadata": {
        "id": "PQ3IFOAb1eUQ",
        "colab_type": "code",
        "outputId": "cdd8d0e0-c861-451a-db4b-dd19640f1789",
        "colab": {
          "base_uri": "https://localhost:8080/",
          "height": 274
        }
      },
      "source": [
        "import pandas as pd \n",
        "import numpy as np \n",
        "from sklearn.metrics import classification_report, confusion_matrix \n",
        "from sklearn.datasets import load_breast_cancer \n",
        "from sklearn.svm import SVC \n",
        "from yellowbrick.classifier import ClassificationReport\n",
        "from sklearn.linear_model import LogisticRegression\n",
        "!pip install yellowbrick"
      ],
      "execution_count": 0,
      "outputs": [
        {
          "output_type": "stream",
          "text": [
            "/usr/local/lib/python3.6/dist-packages/sklearn/utils/deprecation.py:144: FutureWarning: The sklearn.metrics.classification module is  deprecated in version 0.22 and will be removed in version 0.24. The corresponding classes / functions should instead be imported from sklearn.metrics. Anything that cannot be imported from sklearn.metrics is now part of the private API.\n",
            "  warnings.warn(message, FutureWarning)\n"
          ],
          "name": "stderr"
        },
        {
          "output_type": "stream",
          "text": [
            "Requirement already satisfied: yellowbrick in /usr/local/lib/python3.6/dist-packages (0.9.1)\n",
            "Requirement already satisfied: scipy>=1.0.0 in /usr/local/lib/python3.6/dist-packages (from yellowbrick) (1.4.1)\n",
            "Requirement already satisfied: matplotlib!=3.0.0,>=1.5.1 in /usr/local/lib/python3.6/dist-packages (from yellowbrick) (3.2.1)\n",
            "Requirement already satisfied: numpy>=1.13.0 in /usr/local/lib/python3.6/dist-packages (from yellowbrick) (1.18.2)\n",
            "Requirement already satisfied: cycler>=0.10.0 in /usr/local/lib/python3.6/dist-packages (from yellowbrick) (0.10.0)\n",
            "Requirement already satisfied: scikit-learn>=0.20 in /usr/local/lib/python3.6/dist-packages (from yellowbrick) (0.22.2.post1)\n",
            "Requirement already satisfied: python-dateutil>=2.1 in /usr/local/lib/python3.6/dist-packages (from matplotlib!=3.0.0,>=1.5.1->yellowbrick) (2.8.1)\n",
            "Requirement already satisfied: kiwisolver>=1.0.1 in /usr/local/lib/python3.6/dist-packages (from matplotlib!=3.0.0,>=1.5.1->yellowbrick) (1.2.0)\n",
            "Requirement already satisfied: pyparsing!=2.0.4,!=2.1.2,!=2.1.6,>=2.0.1 in /usr/local/lib/python3.6/dist-packages (from matplotlib!=3.0.0,>=1.5.1->yellowbrick) (2.4.7)\n",
            "Requirement already satisfied: six in /usr/local/lib/python3.6/dist-packages (from cycler>=0.10.0->yellowbrick) (1.12.0)\n",
            "Requirement already satisfied: joblib>=0.11 in /usr/local/lib/python3.6/dist-packages (from scikit-learn>=0.20->yellowbrick) (0.14.1)\n"
          ],
          "name": "stdout"
        }
      ]
    },
    {
      "cell_type": "code",
      "metadata": {
        "id": "iSOLcS472sgS",
        "colab_type": "code",
        "outputId": "d814d02f-234d-47e5-8d38-f02847702888",
        "colab": {
          "base_uri": "https://localhost:8080/",
          "height": 369
        }
      },
      "source": [
        "viz = ClassificationReport(svm.SVC(**clf_svm.best_params_), classes=['less', 'larger'])\n",
        "viz.fit(X_train2, y_train2)\n",
        "viz.score(X_test2, y_test2)\n",
        "# viz.show()\n",
        "\n",
        "# predictions = clf_svm.best_estimator_.predict(X_test2)\n",
        "# classification_report(y_test2, predictions)"
      ],
      "execution_count": 0,
      "outputs": [
        {
          "output_type": "execute_result",
          "data": {
            "text/plain": [
              "0.8657894736842106"
            ]
          },
          "metadata": {
            "tags": []
          },
          "execution_count": 53
        },
        {
          "output_type": "display_data",
          "data": {
            "image/png": "[encoded data removed]",
            "text/plain": [
              "<Figure size 576x396 with 2 Axes>"
            ]
          },
          "metadata": {
            "tags": []
          }
        }
      ]
    },
    {
      "cell_type": "code",
      "metadata": {
        "id": "0411jkHc3_mN",
        "colab_type": "code",
        "outputId": "39e50949-1f91-494d-864c-06169bb85c9d",
        "colab": {
          "base_uri": "https://localhost:8080/",
          "height": 181
        }
      },
      "source": [
        "print('''precision    recall  f1-score   support\n",
        "\n",
        "           0       0.87      0.87      0.87       787\n",
        "           1       0.86      0.87      0.86       733\n",
        "\n",
        "    accuracy                           0.87      1520\n",
        "   macro avg       0.87      0.87      0.87      1520\n",
        "weighted avg       0.87      0.87      0.87      1520\n",
        "''')"
      ],
      "execution_count": 0,
      "outputs": [
        {
          "output_type": "stream",
          "text": [
            "precision    recall  f1-score   support\n",
            "\n",
            "           0       0.87      0.87      0.87       787\n",
            "           1       0.86      0.87      0.86       733\n",
            "\n",
            "    accuracy                           0.87      1520\n",
            "   macro avg       0.87      0.87      0.87      1520\n",
            "weighted avg       0.87      0.87      0.87      1520\n",
            "\n"
          ],
          "name": "stdout"
        }
      ]
    },
    {
      "cell_type": "markdown",
      "metadata": {
        "id": "oaGnIL4YliEg",
        "colab_type": "text"
      },
      "source": [
        "# NN. Dataset without metrics"
      ]
    },
    {
      "cell_type": "code",
      "metadata": {
        "id": "PqsLDlg_IuNZ",
        "colab_type": "code",
        "colab": {}
      },
      "source": [
        "class AibolitDataset(torch.utils.data.Dataset):\n",
        "    def __init__(self):\n",
        "        newd = pd.read_csv('out.csv', header=None)\n",
        "        self.Y = [[x] for x in newd.iloc[:,-1].values]\n",
        "        self._columns = COLUMNS_FEATURES\n",
        "        self.X = newd.iloc[:,:-1].values\n",
        "\n",
        "    def __getitem__(self, idx):\n",
        "        # get item by index\n",
        "        return torch.FloatTensor(self.X[idx]), torch.FloatTensor(self.Y[idx])\n",
        "  \n",
        "    def __len__(self):\n",
        "        # returns length of data\n",
        "        return len(self.X)\n",
        "    \n",
        "    def shape(self):\n",
        "        # returns length of data\n",
        "        return self.X.shape\n",
        "  \n",
        "    @property\n",
        "    def columns(self):\n",
        "        \"\"\"Columns property.\"\"\"\n",
        "        return self._columns"
      ],
      "execution_count": 0,
      "outputs": []
    },
    {
      "cell_type": "code",
      "metadata": {
        "id": "PFWddQSeRNlB",
        "colab_type": "code",
        "colab": {}
      },
      "source": [
        "# newd = pd.read_csv('out.csv', header=None)\n",
        "yy = [[x] for x in newd.iloc[:,-1].values.astype('double', copy=False).tolist()]\n",
        "# zz = newd.iloc[:,:-1].values.astype('double', copy=False)\n",
        "yy"
      ],
      "execution_count": 0,
      "outputs": []
    },
    {
      "cell_type": "code",
      "metadata": {
        "id": "PVeh3HWUIvf6",
        "colab_type": "code",
        "outputId": "0e12c440-a940-4365-a4bf-9102023a5308",
        "colab": {
          "base_uri": "https://localhost:8080/",
          "height": 108
        }
      },
      "source": [
        "dataset = AibolitDataset()\n",
        "print('dataset length:', dataset.shape())\n",
        "len(dataset)\n",
        "dataset[0]\n",
        "dataset.Y[0], torch.FloatTensor(dataset.X[0])"
      ],
      "execution_count": 0,
      "outputs": [
        {
          "output_type": "stream",
          "text": [
            "dataset length: (9900, 46)\n"
          ],
          "name": "stdout"
        },
        {
          "output_type": "execute_result",
          "data": {
            "text/plain": [
              "([0],\n",
              " tensor([0., 0., 0., 0., 0., 0., 0., 0., 0., 0., 0., 0., 0., 0., 0., 0., 0., 0.,\n",
              "         6., 0., 0., 0., 0., 0., 0., 0., 0., 0., 0., 0., 0., 1., 0., 0., 0., 0.,\n",
              "         0., 0., 0., 0., 0., 5., 0., 0., 0., 0.]))"
            ]
          },
          "metadata": {
            "tags": []
          },
          "execution_count": 64
        }
      ]
    },
    {
      "cell_type": "code",
      "metadata": {
        "id": "0cmQVl_WQ8H1",
        "colab_type": "code",
        "outputId": "acd0da5c-4f51-40f8-f5c7-14c3664a865c",
        "colab": {
          "base_uri": "https://localhost:8080/",
          "height": 35
        }
      },
      "source": [
        "dataset.X.shape"
      ],
      "execution_count": 0,
      "outputs": [
        {
          "output_type": "execute_result",
          "data": {
            "text/plain": [
              "(9900, 46)"
            ]
          },
          "metadata": {
            "tags": []
          },
          "execution_count": 24
        }
      ]
    },
    {
      "cell_type": "code",
      "metadata": {
        "id": "4O3wIuTrI3xo",
        "colab_type": "code",
        "colab": {}
      },
      "source": [
        "def prepare_data(dataset): \n",
        "  batch_size = 100\n",
        "  train_size = int(0.7*len(dataset))\n",
        "  val_size = len(dataset) - train_size\n",
        "  train_data, val_data = torch.utils.data.random_split(dataset,[train_size, val_size])\n",
        "  #print(len(train_data), len(val_data))\n",
        "  trainloader = torch.utils.data.DataLoader(\n",
        "      train_data, batch_size=batch_size,\n",
        "      shuffle=True)\n",
        "  testloader = torch.utils.data.DataLoader(\n",
        "      val_data, batch_size=batch_size,\n",
        "      shuffle=False)\n",
        "  return trainloader, testloader, train_data, val_data\n",
        "\n",
        "def prepare_data2(train_data, val_data): \n",
        "  batch_size = 100\n",
        "  trainloader = torch.utils.data.DataLoader(\n",
        "      train_data, batch_size=batch_size,\n",
        "      shuffle=True)\n",
        "  testloader = torch.utils.data.DataLoader(\n",
        "      val_data, batch_size=batch_size,\n",
        "      shuffle=False)\n",
        "  return trainloader, testloader, train_data, val_data\n"
      ],
      "execution_count": 0,
      "outputs": []
    },
    {
      "cell_type": "code",
      "metadata": {
        "id": "Qsy_RsD0I4Vy",
        "colab_type": "code",
        "colab": {}
      },
      "source": [
        "class Maxout(nn.Module):\n",
        "\n",
        "    def __init__(self, d_in, d_out, pool_size):\n",
        "        super().__init__()\n",
        "        self.d_in, self.d_out, self.pool_size = d_in, d_out, pool_size\n",
        "        self.lin = nn.Linear(d_in, d_out * pool_size)\n",
        "\n",
        "\n",
        "    def forward(self, inputs):\n",
        "        shape = list(inputs.size())\n",
        "        shape[-1] = self.d_out\n",
        "        shape.append(self.pool_size)\n",
        "        max_dim = len(shape) - 1\n",
        "        out = self.lin(inputs)\n",
        "        m, i = out.view(*shape).max(max_dim)\n",
        "        return m"
      ],
      "execution_count": 0,
      "outputs": []
    },
    {
      "cell_type": "code",
      "metadata": {
        "id": "wLLjur_vI6tb",
        "colab_type": "code",
        "colab": {}
      },
      "source": [
        "import torch\n",
        "import torch.nn as nn\n",
        "import torch.nn.functional as F\n",
        "\n",
        "class Net(nn.Module):\n",
        "\n",
        "    def __init__(self, d, max_out_pool):\n",
        "        super(Net, self).__init__()\n",
        "        self.f = nn.Sequential(\n",
        "            Maxout(46, d, max_out_pool),\n",
        "            Maxout(d, d, max_out_pool),\n",
        "            #Maxout(d, d, max_out_pool),\n",
        "            nn.Linear(d, 1)\n",
        "            # torch.nn.Sigmoid(d)\n",
        "        )\n",
        "\n",
        "    def forward(self, x):\n",
        "        return self.f(x)\n"
      ],
      "execution_count": 0,
      "outputs": []
    },
    {
      "cell_type": "code",
      "metadata": {
        "id": "NXX2plng6v8g",
        "colab_type": "code",
        "colab": {}
      },
      "source": [
        "def mean_absolute_percentage_error(y_true, y_pred):\n",
        "    y_true = np.array(y_true).reshape(-1)\n",
        "    y_pred = np.array(y_pred).reshape(-1)\n",
        "    return np.mean(np.abs((y_true - y_pred) / y_true)) * 100\n",
        "\n",
        "def print_scores(y_test, y_pred):\n",
        "    print('MSE: ', mean_squared_error(y_test, y_pred))\n",
        "    print('MAE: ', mean_absolute_error(y_test, y_pred))\n",
        "    print('MAPE:', mean_absolute_percentage_error(y_test, y_pred))\n",
        "    print('R2:  ', r2_score(y_test, y_pred))\n",
        "    print('VAR:  ', np.var(y_test))"
      ],
      "execution_count": 0,
      "outputs": []
    },
    {
      "cell_type": "code",
      "metadata": {
        "id": "lX0VjjgYDvaI",
        "colab_type": "code",
        "colab": {}
      },
      "source": [
        "def proba_tobinary(pred):\n",
        "  # print(pred)\n",
        "  # print([[1] if x[0] > 0.5 else [0] for x in pred])\n",
        "  return [[1] if x[0] > 0.5 else [0] for x in pred]"
      ],
      "execution_count": 0,
      "outputs": []
    },
    {
      "cell_type": "code",
      "metadata": {
        "id": "6wMO85qdJCYs",
        "colab_type": "code",
        "colab": {}
      },
      "source": [
        "from sklearn.metrics import accuracy_score, auc, f1_score, hamming_loss, precision_score\n",
        "\n",
        "def validate(model, dl, device=None):\n",
        "    model.eval()\n",
        "    test_loss = 0\n",
        "    accuracy = 0\n",
        "    preds = []\n",
        "    pred_probs = []\n",
        "    all_labels = []\n",
        "    criterion = torch.nn.BCEWithLogitsLoss(reduction='none')\n",
        "    losses = []\n",
        "\n",
        "    with torch.no_grad():\n",
        "        for inputs, labels in dl:\n",
        "            # inputs, labels = inputs.to(device), labels.to(device)\n",
        "            pred = model.forward(inputs)\n",
        "            pred_prob = proba_tobinary(torch.nn.Sigmoid()(pred))\n",
        "            # print(pred.squeeze(1), labels.squeeze(1))\n",
        "            batch_loss = criterion(pred.squeeze(1), labels.squeeze(1))\n",
        "            all_labels += labels.tolist()\n",
        "            preds += pred.tolist()\n",
        "            # print(pred_prob)\n",
        "            pred_probs += pred_prob\n",
        "            losses += batch_loss.tolist()\n",
        "\n",
        "    avg_loss = np.mean(losses)\n",
        "    y_true, y_pred = np.array(all_labels), np.array(pred_probs)\n",
        "    acc = accuracy_score(y_true, y_pred)\n",
        "    # print(type(f1_score))\n",
        "    f1_sc = f1_score(y_true, y_pred)\n",
        "    precision = precision_score(y_true, y_pred)\n",
        "    hamm_loss = hamming_loss(y_true, y_pred)\n",
        "\n",
        "    return acc, avg_loss, f1_sc, precision, hamm_loss\n",
        "\n",
        "# device = torch.device(\"cuda\" if torch.cuda.is_available() else \"cpu\")\n",
        "# validate(model, testloader, device)\n"
      ],
      "execution_count": 0,
      "outputs": []
    },
    {
      "cell_type": "code",
      "metadata": {
        "id": "yEk1sFbwJEqm",
        "colab_type": "code",
        "colab": {}
      },
      "source": [
        "def check_early_stoppping(early_stoping: int, score_history, epoch):\n",
        "  if (len(score_history) == 0): return False\n",
        "  not_improve_counter = 0\n",
        "  best = score_history[0]\n",
        "  for i in range(0, epoch):\n",
        "    if score_history[i] < best:\n",
        "      not_improve_counter = 0\n",
        "      best = score_history[i]\n",
        "    else:\n",
        "      not_improve_counter += 1\n",
        "\n",
        "    if not_improve_counter >= early_stoping:\n",
        "      return True\n",
        "  return False"
      ],
      "execution_count": 0,
      "outputs": []
    },
    {
      "cell_type": "code",
      "metadata": {
        "id": "VU7p3K3yJJ0f",
        "colab_type": "code",
        "colab": {}
      },
      "source": [
        "import json\n",
        "\n",
        "def train_model(trainloader, testloader, d, max_out_pool, device=None, early_stop=5, lr=0.002):\n",
        "    EARLY_STOPING = early_stop  # if VAL score do not improves more then this amount of times\n",
        "    epochs = 200\n",
        "    steps = 0\n",
        "    running_loss = 0\n",
        "    print_every = 10\n",
        "    train_losses, test_losses = [], []\n",
        "    model = Net(d, max_out_pool)  # .to(device)\n",
        "    optimizer = optim.Adam(model.parameters(), lr=lr)\n",
        "    # optimizer = optim.SGD(model.parameters(), lr=0.001, momentum=0.9)\n",
        "    # scheduler = optim.lr_scheduler.CyclicLR(optimizer, base_lr=0.001, max_lr=0.005)\n",
        "    criterion = torch.nn.BCEWithLogitsLoss()  # BCEWithLogitsLoss without sigmoid, BCELoss with sigmoid\n",
        "\n",
        "    # device = torch.device(\"cuda\" if torch.cuda.is_available() else \"cpu\")\n",
        "    valid_loss_epocs = {}\n",
        "    acc_epocs = {}\n",
        "    f1_score_epochs = {}\n",
        "    precision_epocs = {}\n",
        "    train_loss_epocs = {}\n",
        "    hamm_loss_epocs = {}\n",
        "    best_params = None\n",
        "    best_score = -200\n",
        "\n",
        "    for epoch in range(epochs):\n",
        "        model.train()\n",
        "        for inputs, labels in trainloader:\n",
        "            steps += 1\n",
        "            # inputs, labels = inputs.to(device), labels.to(device)\n",
        "            optimizer.zero_grad()\n",
        "            logps = model.forward(inputs)\n",
        "            loss = criterion(logps.squeeze(1), labels.squeeze(1))\n",
        "            loss.backward()\n",
        "            optimizer.step()\n",
        "            running_loss += loss.item()\n",
        "        _, train_loss, _, _, _ = validate(model, trainloader, device)\n",
        "        acc, valid_loss, f1_score_val, precision, hamm_loss = validate(model, testloader, device)\n",
        "        acc_epocs[epoch] = acc\n",
        "        valid_loss_epocs[epoch] = valid_loss\n",
        "        train_loss_epocs[epoch] = train_loss\n",
        "        f1_score_epochs[epoch] = f1_score_val\n",
        "        precision_epocs[epoch] = precision\n",
        "        hamm_loss_epocs[epoch] = hamm_loss\n",
        "\n",
        "        if (best_score < f1_score_val):\n",
        "            torch.save(model.state_dict(), './best.params.bin')\n",
        "            best_score = f1_score_val\n",
        "            # print('best_score', best_score)\n",
        "\n",
        "        if check_early_stoppping(EARLY_STOPING, f1_score_epochs, epoch):\n",
        "            print('early stop training', epoch)\n",
        "            break\n",
        "\n",
        "        # scheduler.step()\n",
        "\n",
        "    model = Net(d, max_out_pool)\n",
        "    model.load_state_dict(torch.load('./best.params.bin'))\n",
        "    model.eval()\n",
        "    return model, acc_epocs, precision_epocs, f1_score_epochs, train_loss_epocs, hamm_loss_epocs, valid_loss_epocs, best_score"
      ],
      "execution_count": 0,
      "outputs": []
    },
    {
      "cell_type": "code",
      "metadata": {
        "id": "HdD3eP_pmoBB",
        "colab_type": "code",
        "colab": {}
      },
      "source": [
        "stats = []\n",
        "for i in range(7):\n",
        "  dataset = AibolitDataset()\n",
        "  trainloader, testloader, train_data, val_data = prepare_data(dataset)\n",
        "  model, acc_epocs, precision_epocs, f1_score_epochs, train_loss_epocs, hamm_loss_epocs, valid_loss_epocs, best_score = train_model(\n",
        "      trainloader, testloader,\n",
        "      d=50, max_out_pool=2,\n",
        "      early_stop=7, lr=0.002)\n",
        "  #print('best_score', best_score)\n",
        "  stats += [best_score]\n",
        "\n",
        "print(np.mean(stats), np.std(stats))\n"
      ],
      "execution_count": 0,
      "outputs": []
    },
    {
      "cell_type": "code",
      "metadata": {
        "id": "-hLmb0IYmxU9",
        "colab_type": "code",
        "outputId": "47a91741-bd00-4563-d030-958d4008113b",
        "colab": {
          "base_uri": "https://localhost:8080/",
          "height": 126
        }
      },
      "source": [
        "model.eval()\n",
        "list(zip(['accuracy', 'avg_loss', 'f1_score', 'precision', 'hamm_loss'], validate(model, testloader)))"
      ],
      "execution_count": 0,
      "outputs": [
        {
          "output_type": "stream",
          "text": [
            "<class 'function'>\n"
          ],
          "name": "stdout"
        },
        {
          "output_type": "execute_result",
          "data": {
            "text/plain": [
              "[('accuracy', 0.8794612794612795),\n",
              " ('avg_loss', 0.2846884584878799),\n",
              " ('f1_score', 0.8681885125184094),\n",
              " ('precision', 0.9090208172706246),\n",
              " ('hamm_loss', 0.12053872053872054)]"
            ]
          },
          "metadata": {
            "tags": []
          },
          "execution_count": 154
        }
      ]
    },
    {
      "cell_type": "code",
      "metadata": {
        "id": "E-sQ0S5T7QGT",
        "colab_type": "code",
        "outputId": "fa4e09be-4e28-47ff-805c-5d9da1520639",
        "colab": {
          "base_uri": "https://localhost:8080/",
          "height": 35
        }
      },
      "source": [
        "min(f1_score_epochs.values())"
      ],
      "execution_count": 0,
      "outputs": [
        {
          "output_type": "execute_result",
          "data": {
            "text/plain": [
              "0.7669712793733681"
            ]
          },
          "metadata": {
            "tags": []
          },
          "execution_count": 162
        }
      ]
    },
    {
      "cell_type": "code",
      "metadata": {
        "id": "HHL_pHr3RXEY",
        "colab_type": "code",
        "outputId": "19a237c5-cf1c-4aaf-f71a-80a13dbf11e8",
        "colab": {
          "base_uri": "https://localhost:8080/",
          "height": 163
        }
      },
      "source": [
        "acc_epocs"
      ],
      "execution_count": 0,
      "outputs": [
        {
          "output_type": "execute_result",
          "data": {
            "text/plain": [
              "{0: 0.7595959595959596,\n",
              " 1: 0.8033670033670034,\n",
              " 2: 0.832996632996633,\n",
              " 3: 0.836026936026936,\n",
              " 4: 0.8373737373737373,\n",
              " 5: 0.8565656565656565,\n",
              " 6: 0.8656565656565657,\n",
              " 7: 0.8730639730639731}"
            ]
          },
          "metadata": {
            "tags": []
          },
          "execution_count": 163
        }
      ]
    },
    {
      "cell_type": "code",
      "metadata": {
        "id": "J9Iag1nQQcS3",
        "colab_type": "code",
        "outputId": "92d2f8da-92a9-485b-87c0-846482f30402",
        "colab": {
          "base_uri": "https://localhost:8080/",
          "height": 551
        }
      },
      "source": [
        "fig, ax = plt.subplots(figsize=(14, 9))\n",
        "ax.plot(list(acc_epocs.keys()), list(acc_epocs.values()), label=\"Accuracy\")\n",
        "ax.plot(list(f1_score_epochs.keys()), list(f1_score_epochs.values()), label=\"f1_score\")\n",
        "ax.plot(list(precision_epocs.keys()), list(precision_epocs.values()), label=\"precision\")\n",
        "ax.plot(list(hamm_loss_epocs.keys()), list(hamm_loss_epocs.values()), label=\"hamm_loss\")\n",
        "plt.grid(True)\n",
        "ax.set_xlabel('Epoch Number')\n",
        "ax.set_ylabel('Score')\n",
        "plt.legend(loc=\"upper left\")\n",
        "plt.show()\n",
        "fig.savefig(\"Scores_NN.pdf\", bbox_inches='tight')"
      ],
      "execution_count": 0,
      "outputs": [
        {
          "output_type": "display_data",
          "data": {
            "image/png": "[encoded data removed]",
            "text/plain": [
              "<Figure size 1008x648 with 1 Axes>"
            ]
          },
          "metadata": {
            "tags": []
          }
        }
      ]
    },
    {
      "cell_type": "code",
      "metadata": {
        "id": "RfVMFjarRubQ",
        "colab_type": "code",
        "outputId": "5027caaa-8b68-4806-9bc4-c21195a71288",
        "colab": {
          "base_uri": "https://localhost:8080/",
          "height": 551
        }
      },
      "source": [
        "fig, ax = plt.subplots(figsize=(14, 9))\n",
        "ax.plot(list(train_loss_epocs.keys()), list(train_loss_epocs.values()), label=\"Train loss\")\n",
        "ax.plot(list(valid_loss_epocs.keys()), list(valid_loss_epocs.values()), label=\"Valid loss\")\n",
        "plt.grid(True)\n",
        "ax.set_xlabel('Epoch Number')\n",
        "ax.set_ylabel('Loss for cyclo')\n",
        "plt.legend(loc=\"upper left\")\n",
        "plt.show()\n",
        "fig.savefig(\"Loss.pdf\", bbox_inches='tight')"
      ],
      "execution_count": 0,
      "outputs": [
        {
          "output_type": "display_data",
          "data": {
            "image/png": "[encoded data removed]",
            "text/plain": [
              "<Figure size 1008x648 with 1 Axes>"
            ]
          },
          "metadata": {
            "tags": []
          }
        }
      ]
    },
    {
      "cell_type": "markdown",
      "metadata": {
        "id": "8pamT_KNSYVu",
        "colab_type": "text"
      },
      "source": [
        "# Large Dataset NN (Draft)"
      ]
    },
    {
      "cell_type": "code",
      "metadata": {
        "id": "9pDSNHYHSOEe",
        "colab_type": "code",
        "colab": {}
      },
      "source": [
        "class AibolitDatasetLarge(torch.utils.data.Dataset):\n",
        "    def __init__(self):\n",
        "        newd = pd.read_csv('out_m.csv', header=None)\n",
        "        self.Y = [[x] for x in newd.iloc[:, -1].values]\n",
        "        self.X = newd.iloc[:, :-1].values\n",
        "\n",
        "    def __getitem__(self, idx):\n",
        "        # get item by index\n",
        "        return torch.FloatTensor(self.X[idx]), torch.FloatTensor(self.Y[idx])\n",
        "\n",
        "    def __len__(self):\n",
        "        # returns length of data\n",
        "        return len(self.X)\n",
        "\n",
        "    def shape(self):\n",
        "        # returns length of data\n",
        "        return self.X.shape"
      ],
      "execution_count": 0,
      "outputs": []
    },
    {
      "cell_type": "code",
      "metadata": {
        "id": "VXHmXIuIRN4p",
        "colab_type": "code",
        "colab": {}
      },
      "source": [
        "stats = []\n",
        "for i in range(7):\n",
        "  dataset = AibolitDatasetLarge()\n",
        "  trainloader, testloader, train_data, val_data = prepare_data(dataset)\n",
        "  model, acc_epocs, precision_epocs, f1_score_epochs, train_loss_epocs, hamm_loss_epocs, valid_loss_epocs, best_score = train_model(\n",
        "      trainloader, testloader,\n",
        "      d=50, max_out_pool=2,\n",
        "      early_stop=7, lr=0.002)\n",
        "  #print('best_score', best_score)\n",
        "  stats += [best_score]\n",
        "\n",
        "print(np.mean(stats), np.std(stats))"
      ],
      "execution_count": 0,
      "outputs": []
    },
    {
      "cell_type": "code",
      "metadata": {
        "id": "JbWthF3K_UVR",
        "colab_type": "code",
        "colab": {}
      },
      "source": [
        "model.predict()"
      ],
      "execution_count": 0,
      "outputs": []
    }
  ]
}