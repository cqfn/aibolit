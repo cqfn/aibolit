{
  "nbformat": 4,
  "nbformat_minor": 0,
  "metadata": {
    "accelerator": "GPU",
    "colab": {
      "name": "ranking_methods_comparison",
      "provenance": [],
      "collapsed_sections": [],
      "machine_shape": "hm",
      "include_colab_link": true
    },
    "kernelspec": {
      "name": "python3",
      "display_name": "Python 3"
    },
    "language_info": {
      "codemirror_mode": {
        "name": "ipython",
        "version": 3
      },
      "file_extension": ".py",
      "mimetype": "text/x-python",
      "name": "python",
      "nbconvert_exporter": "python",
      "pygments_lexer": "ipython3",
      "version": "3.7.4"
    }
  },
  "cells": [
    {
      "cell_type": "markdown",
      "metadata": {
        "id": "view-in-github",
        "colab_type": "text"
      },
      "source": [
        "<a href=\"https://colab.research.google.com/github/angusev/aibolit/blob/master/ranking_methods_comparison.ipynb\" target=\"_parent\"><img src=\"https://colab.research.google.com/assets/colab-badge.svg\" alt=\"Open In Colab\"/></a>"
      ]
    },
    {
      "cell_type": "code",
      "metadata": {
        "colab_type": "code",
        "id": "hf21z4JtSN-d",
        "colab": {
          "base_uri": "https://localhost:8080/",
          "height": 71
        },
        "outputId": "6c57d568-1715-4509-a18e-00e9ef14230f"
      },
      "source": [
        "import torch\n",
        "from torch.autograd import Variable\n",
        "import torch.nn.functional as F\n",
        "import torch.utils.data as Data\n",
        "\n",
        "import matplotlib.pyplot as plt\n",
        "%matplotlib inline\n",
        "\n",
        "import imageio\n",
        "import pandas as pd\n",
        "import numpy as np\n",
        "from sklearn.linear_model import LinearRegression, Lasso, Ridge, HuberRegressor\n",
        "from sklearn.metrics import mean_squared_error, r2_score, mean_absolute_error, \\\n",
        "        explained_variance_score, mean_squared_log_error, mean_tweedie_deviance\n",
        "from sklearn.model_selection import GridSearchCV, train_test_split\n",
        "from sklearn.preprocessing import StandardScaler, MinMaxScaler, \\\n",
        "                                    PolynomialFeatures\n",
        "from sklearn.decomposition import PCA\n",
        "import numpy as np\n",
        "from sklearn.ensemble import RandomForestRegressor\n",
        "from sklearn import datasets, linear_model, svm\n",
        "import statsmodels.api as sm\n",
        "from scipy import stats\n",
        "from sklearn.pipeline import Pipeline\n",
        "from sklearn.base import clone\n",
        "import seaborn as sns\n",
        "import torch.optim as optim\n",
        "from tqdm import tqdm\n",
        "from sklearn.metrics import make_scorer\n",
        "from sklearn.base import BaseEstimator\n",
        "import lightgbm as lgbm\n",
        "\n",
        "import csv\n",
        "from itertools import permutations, combinations, chain, tee\n",
        "import scipy.special\n",
        "import random\n",
        "import math\n",
        "import networkx\n",
        "import networkx.algorithms\n",
        "import networkx as nx\n",
        "from collections import defaultdict, OrderedDict"
      ],
      "execution_count": 1,
      "outputs": [
        {
          "output_type": "stream",
          "text": [
            "/usr/local/lib/python3.6/dist-packages/statsmodels/tools/_testing.py:19: FutureWarning: pandas.util.testing is deprecated. Use the functions in the public API at pandas.testing instead.\n",
            "  import pandas.util.testing as tm\n"
          ],
          "name": "stderr"
        }
      ]
    },
    {
      "cell_type": "code",
      "metadata": {
        "id": "i8MXyMBoQbSs",
        "colab_type": "code",
        "outputId": "29232f1e-1e51-45ee-c41e-6cbf289d9754",
        "colab": {
          "base_uri": "https://localhost:8080/",
          "height": 51
        }
      },
      "source": [
        "from google.colab import drive\n",
        "GOOGLE_DRIVE_MOUNT = \"/content/gdrive\"\n",
        "drive.mount(GOOGLE_DRIVE_MOUNT)\n",
        "\n",
        "%cd /content/gdrive/My Drive/aibolit"
      ],
      "execution_count": 2,
      "outputs": [
        {
          "output_type": "stream",
          "text": [
            "Drive already mounted at /content/gdrive; to attempt to forcibly remount, call drive.mount(\"/content/gdrive\", force_remount=True).\n",
            "/content/gdrive/My Drive/aibolit\n"
          ],
          "name": "stdout"
        }
      ]
    },
    {
      "cell_type": "code",
      "metadata": {
        "id": "Sle2l4D-2L4k",
        "colab_type": "code",
        "colab": {}
      },
      "source": [
        "def mean_absolute_percentage_error(y_true, y_pred):\n",
        "    y_true = np.array(y_true).reshape(-1)\n",
        "    y_pred = np.array(y_pred).reshape(-1)\n",
        "    return np.mean(np.abs((y_true - y_pred) / y_true)) * 100\n",
        "\n",
        "def print_scores(y_test, y_pred):\n",
        "    print('MSE: ', mean_squared_error(y_test, y_pred))\n",
        "    print('MAE: ', mean_absolute_error(y_test, y_pred))\n",
        "    print('MAPE:', mean_absolute_percentage_error(y_test, y_pred))\n",
        "    print('R2:  ', r2_score(y_test, y_pred))\n",
        "    print('VAR:  ', np.var(y_test))"
      ],
      "execution_count": 0,
      "outputs": []
    },
    {
      "cell_type": "code",
      "metadata": {
        "id": "qDzq4A83HY1c",
        "colab_type": "code",
        "outputId": "a24ff098-fcb9-4321-fa21-fb884f42e897",
        "colab": {
          "base_uri": "https://localhost:8080/",
          "height": 34
        }
      },
      "source": [
        "ONLY_PATTERNS = ['var_middle_number', 'nested_for_number', 'nested_if_number',\n",
        " 'string_concat_number', 'instance_of_number', 'method_chain_number', 'var_decl_diff_number_5',\n",
        " 'var_decl_diff_number_7', 'var_decl_diff_number_11', 'super_method_call_number',\n",
        " 'for_type_cast_number', 'this_find_number', 'asserts_number', 'setter_number',\n",
        " 'empty_rethrow_number', 'prohibited_class_names_number', 'return_in_if_number', 'impl_multi_number',\n",
        " 'many_prim_ctors_number', 'multiple_try_number', 'non_final_field_number',\n",
        " 'null_check_number', 'part_sync_number', 'red_catch_number', 'return_null_number']\n",
        "\n",
        "FEATURES_NUMBER = len(ONLY_PATTERNS)\n",
        "print(\"Number of features: \", FEATURES_NUMBER)"
      ],
      "execution_count": 4,
      "outputs": [
        {
          "output_type": "stream",
          "text": [
            "Number of features:  25\n"
          ],
          "name": "stdout"
        }
      ]
    },
    {
      "cell_type": "code",
      "metadata": {
        "id": "ymr7_3twTVEd",
        "colab_type": "code",
        "colab": {}
      },
      "source": [
        "df = pd.read_csv('dataset8.csv')\n",
        "df = df.dropna().drop_duplicates(subset=df.columns.difference(['filename']))\n",
        "df = df[(df.ncss > 20) & (df.ncss < 500) & (df.cyclo < 100) & (df.cyclo > 3) \n",
        "                       & (df.npath_method_avg < 100000.00)].copy().reset_index()\n",
        "                       \n",
        "df = df[~df[\"filename\"].str.lower().str.contains(\"test\")]\n",
        "filename_with_index = df['filename']\n",
        "df.drop('filename', axis=1, inplace=True)\n",
        "df.drop('index', axis=1, inplace=True)\n",
        "columns_patterns =  ONLY_PATTERNS\n",
        "\n",
        "X = pd.DataFrame(df[ONLY_PATTERNS].values / df['ncss'].values.reshape((-1, 1)))\n",
        "#X = pd.DataFrame(df[ONLY_PATTERNS].values)\n",
        "y = df[['cyclo']].values #/ df['ncss'].values.reshape(-1)\n",
        "\n",
        "X_train, X_test, y_train, y_test = train_test_split(X.values, y, test_size=0.3, random_state=42)"
      ],
      "execution_count": 0,
      "outputs": []
    },
    {
      "cell_type": "markdown",
      "metadata": {
        "id": "LLdlBMAiw3u5",
        "colab_type": "text"
      },
      "source": [
        "# NN Model"
      ]
    },
    {
      "cell_type": "code",
      "metadata": {
        "id": "X-68ynD95GQj",
        "colab_type": "code",
        "colab": {}
      },
      "source": [
        "import torch\n",
        "import torch.nn as nn\n",
        "import torch.nn.functional as F\n",
        "from typing import List\n",
        "\n",
        "class Maxout(nn.Module):\n",
        "    def __init__(self, d_in, d_out, pool_size):\n",
        "        super().__init__()\n",
        "        self.d_in, self.d_out, self.pool_size = d_in, d_out, pool_size\n",
        "        self.lin = nn.Linear(d_in, d_out * pool_size)\n",
        "\n",
        "    def forward(self, inputs):\n",
        "        shape = list(inputs.size())\n",
        "        shape[-1] = self.d_out\n",
        "        shape.append(self.pool_size)\n",
        "        max_dim = len(shape) - 1\n",
        "        out = self.lin(inputs)\n",
        "        m, i = out.view(*shape).max(max_dim)\n",
        "        return m\n",
        "\n",
        "\n",
        "class Net(nn.Module):\n",
        "    def __init__(self, d, max_out_pool, n_features):\n",
        "        super(Net, self).__init__()\n",
        "        self.f = nn.Sequential(\n",
        "            Maxout(n_features, d, max_out_pool),\n",
        "            Maxout(d, d, max_out_pool),\n",
        "            nn.Linear(d, 1)\n",
        "        )\n",
        "\n",
        "    def forward(self, x):\n",
        "        return self.f(x)\n",
        "\n",
        "\n",
        "class NNModel():\n",
        "  def __init__(self, n_features):\n",
        "    self.d = 50\n",
        "    self.max_out_pool = 2\n",
        "    self.n_features = n_features\n",
        "    self.early_stop = 5\n",
        "    self.lr = 0.002\n",
        "    self.epochs = 200\n",
        "    self.batch_size = 100\n",
        "    self.committee_size = 10\n",
        "\n",
        "  def _check_early_stoppping(self, score_history, epoch) -> bool:\n",
        "    if (len(score_history) == 0): return False\n",
        "    not_improve_counter = 0\n",
        "    best = score_history[0]\n",
        "    for i in range(0, epoch):\n",
        "      if score_history[i] < best:\n",
        "        not_improve_counter = 0\n",
        "        best = score_history[i]\n",
        "      else:\n",
        "        not_improve_counter += 1\n",
        "\n",
        "      if not_improve_counter >= self.early_stop:\n",
        "        return True\n",
        "    return False\n",
        "\n",
        "  def _prepare_data(self, X_train, y_train, X_test, y_test):\n",
        "    train_data = torch.utils.data.TensorDataset(\n",
        "        torch.FloatTensor(X_train.values), \n",
        "        torch.FloatTensor(y_train)\n",
        "    )\n",
        "    val_data = torch.utils.data.TensorDataset(\n",
        "      torch.FloatTensor(X_test.values), \n",
        "      torch.FloatTensor(y_test)\n",
        "    )\n",
        "    trainloader = torch.utils.data.DataLoader(\n",
        "        train_data, batch_size=self.batch_size,\n",
        "        shuffle=True)\n",
        "    testloader = torch.utils.data.DataLoader(\n",
        "        val_data, batch_size=self.batch_size,\n",
        "        shuffle=False)\n",
        "    return trainloader, testloader\n",
        "\n",
        "\n",
        "  def _validate(self, model, dl, device=None):\n",
        "    model.eval()\n",
        "    test_loss = 0\n",
        "    accuracy = 0\n",
        "    preds = []\n",
        "    all_labels = []\n",
        "    criterion = torch.nn.MSELoss(reduction='none')\n",
        "    losses = []\n",
        "\n",
        "    with torch.no_grad():\n",
        "        for inputs, labels in dl:\n",
        "            pred = model.forward(inputs)\n",
        "            batch_loss = criterion(pred.squeeze(1), labels.squeeze(1))\n",
        "            all_labels += labels.tolist()\n",
        "            preds += pred.tolist()\n",
        "            losses += batch_loss.tolist()\n",
        "          \n",
        "    avg_loss = np.mean(losses)\n",
        "    r2 = r2_score(all_labels, preds)\n",
        "    mae = mean_absolute_error(all_labels, preds)\n",
        "    y_true, y_pred = np.array(all_labels), np.array(preds)\n",
        "    r2 = r2_score(y_true, y_pred)\n",
        "    mape = mean_absolute_percentage_error(y_true.reshape(-1), y_pred.reshape(-1)) \n",
        "    mse = mean_squared_error(y_true, y_pred) \n",
        "    return r2, avg_loss, mape, mae, mse\n",
        "\n",
        "  def _train_model(self, trainloader, testloader, device=None):\n",
        "    model = Net(self.d, self.max_out_pool, self.n_features)\n",
        "    optimizer = optim.Adam(model.parameters(), lr=self.lr)\n",
        "    criterion = torch.nn.MSELoss()\n",
        "    best_params = None\n",
        "    best_score = -200\n",
        "    r2_epocs = {}\n",
        "\n",
        "    for epoch in range(self.epochs):\n",
        "      model.train()\n",
        "      for inputs, labels in trainloader:\n",
        "          optimizer.zero_grad()\n",
        "          logps = model.forward(inputs)\n",
        "          loss = criterion(logps.squeeze(1), labels.squeeze(1))\n",
        "          loss.backward()\n",
        "          optimizer.step()\n",
        "\n",
        "      _, train_loss, _, _, _ = self._validate(model, trainloader, device)\n",
        "      r2, valid_loss, mape, mae, mse = self._validate(model, testloader, device)\n",
        "      r2_epocs[epoch] = -1 * r2\n",
        "      if (best_score < r2):\n",
        "          torch.save(model.state_dict(), './best.params.bin')\n",
        "          best_score = r2\n",
        "\n",
        "      if self._check_early_stoppping(r2_epocs, epoch):\n",
        "        break\n",
        "\n",
        "    model = Net(self.d, self.max_out_pool, self.n_features)\n",
        "    model.load_state_dict(torch.load('./best.params.bin'))\n",
        "    model.eval()\n",
        "    return model, best_score\n",
        "\n",
        "  def fit(self, X_train, y_train, X_test, y_test) -> None:\n",
        "    trainloader, testloader = self._prepare_data(\n",
        "        X_train, y_train, X_test, y_test\n",
        "    )\n",
        "    self.models = []\n",
        "    self.best_scores = []\n",
        "    for i in range(0, self.committee_size):\n",
        "      model, best_score = self._train_model(trainloader, testloader)\n",
        "      self.models.append(model)\n",
        "      self.best_scores.append(best_score)\n",
        "\n",
        "  def avg_score(self) -> float:\n",
        "    return np.mean(self.best_scores)\n",
        "\n",
        "  def predict(self, X: List[List[float]]) -> List[List[int]]:\n",
        "    '''Takes in list of patterns tuples\n",
        "       and for each combinaion returns list of pattern\n",
        "       indexes ordered by importance \n",
        "    '''\n",
        "\n",
        "    grad_accum = torch.zeros_like(torch.FloatTensor(X))\n",
        "    for model in self.models:\n",
        "      model.eval()\n",
        "      x = torch.FloatTensor(X)\n",
        "      x.requires_grad_(True)\n",
        "      y = model(x)\n",
        "      y.mean().backward()\n",
        "      grad_accum += (x.grad.detach() * torch.FloatTensor([1])).softmax(dim=1)\n",
        "\n",
        "    return np.array(grad_accum.argsort(dim=1, descending=True).tolist())\n"
      ],
      "execution_count": 0,
      "outputs": []
    },
    {
      "cell_type": "code",
      "metadata": {
        "id": "SsX0EsIg_az3",
        "colab_type": "code",
        "outputId": "193480cb-b303-4c0c-d81c-ba0cbc848511",
        "colab": {
          "base_uri": "https://localhost:8080/",
          "height": 51
        }
      },
      "source": [
        "%%time\n",
        "\n",
        "net = NNModel(n_features=FEATURES_NUMBER)\n",
        "net.fit(X_train, y_train, X_test, y_test)\n",
        "X = np.random.rand(2, FEATURES_NUMBER)"
      ],
      "execution_count": 7,
      "outputs": [
        {
          "output_type": "stream",
          "text": [
            "CPU times: user 20min 57s, sys: 4.94 s, total: 21min 2s\n",
            "Wall time: 8min 14s\n"
          ],
          "name": "stdout"
        }
      ]
    },
    {
      "cell_type": "code",
      "metadata": {
        "id": "6R-zsYzni3FW",
        "colab_type": "code",
        "colab": {}
      },
      "source": [
        "net_pred = net.predict(X_test.values)"
      ],
      "execution_count": 0,
      "outputs": []
    },
    {
      "cell_type": "code",
      "metadata": {
        "id": "oI_C9gntEiEi",
        "colab_type": "code",
        "outputId": "cb6d47fc-2b88-40cc-9565-18baa3b139e2",
        "colab": {
          "base_uri": "https://localhost:8080/",
          "height": 102
        }
      },
      "source": [
        "trainloader, testloader = net._prepare_data(X_train, y_train, X_test, y_test)\n",
        "net._validate(net.models[0], testloader)"
      ],
      "execution_count": 9,
      "outputs": [
        {
          "output_type": "execute_result",
          "data": {
            "text/plain": [
              "(0.39466499182267356,\n",
              " 183.05030892683692,\n",
              " 70.16488783531297,\n",
              " 8.977612075576173,\n",
              " 183.05030913708086)"
            ]
          },
          "metadata": {
            "tags": []
          },
          "execution_count": 9
        }
      ]
    },
    {
      "cell_type": "markdown",
      "metadata": {
        "id": "THpI_nIBVtZo",
        "colab_type": "text"
      },
      "source": [
        "# Two fold model"
      ]
    },
    {
      "cell_type": "code",
      "metadata": {
        "id": "9g6kxg4HjX4U",
        "colab_type": "code",
        "outputId": "b590a009-ae1e-44fd-f430-1a3036939a2f",
        "colab": {
          "base_uri": "https://localhost:8080/",
          "height": 343
        }
      },
      "source": [
        "! pip install catboost\n",
        "from catboost import CatBoostRegressor"
      ],
      "execution_count": 10,
      "outputs": [
        {
          "output_type": "stream",
          "text": [
            "Collecting catboost\n",
            "\u001b[?25l  Downloading https://files.pythonhosted.org/packages/94/ec/12b9a42b2ea7dfe5b602f235692ab2b61ee1334ff34334a15902272869e8/catboost-0.22-cp36-none-manylinux1_x86_64.whl (64.4MB)\n",
            "\u001b[K     |████████████████████████████████| 64.4MB 51kB/s \n",
            "\u001b[?25hRequirement already satisfied: matplotlib in /usr/local/lib/python3.6/dist-packages (from catboost) (3.2.1)\n",
            "Requirement already satisfied: pandas>=0.24.0 in /usr/local/lib/python3.6/dist-packages (from catboost) (1.0.3)\n",
            "Requirement already satisfied: six in /usr/local/lib/python3.6/dist-packages (from catboost) (1.12.0)\n",
            "Requirement already satisfied: scipy in /usr/local/lib/python3.6/dist-packages (from catboost) (1.4.1)\n",
            "Requirement already satisfied: numpy>=1.16.0 in /usr/local/lib/python3.6/dist-packages (from catboost) (1.18.2)\n",
            "Requirement already satisfied: graphviz in /usr/local/lib/python3.6/dist-packages (from catboost) (0.10.1)\n",
            "Requirement already satisfied: plotly in /usr/local/lib/python3.6/dist-packages (from catboost) (4.4.1)\n",
            "Requirement already satisfied: kiwisolver>=1.0.1 in /usr/local/lib/python3.6/dist-packages (from matplotlib->catboost) (1.2.0)\n",
            "Requirement already satisfied: cycler>=0.10 in /usr/local/lib/python3.6/dist-packages (from matplotlib->catboost) (0.10.0)\n",
            "Requirement already satisfied: python-dateutil>=2.1 in /usr/local/lib/python3.6/dist-packages (from matplotlib->catboost) (2.8.1)\n",
            "Requirement already satisfied: pyparsing!=2.0.4,!=2.1.2,!=2.1.6,>=2.0.1 in /usr/local/lib/python3.6/dist-packages (from matplotlib->catboost) (2.4.7)\n",
            "Requirement already satisfied: pytz>=2017.2 in /usr/local/lib/python3.6/dist-packages (from pandas>=0.24.0->catboost) (2018.9)\n",
            "Requirement already satisfied: retrying>=1.3.3 in /usr/local/lib/python3.6/dist-packages (from plotly->catboost) (1.3.3)\n",
            "Installing collected packages: catboost\n",
            "Successfully installed catboost-0.22\n"
          ],
          "name": "stdout"
        }
      ]
    },
    {
      "cell_type": "code",
      "metadata": {
        "id": "9WiC_tOAf_-7",
        "colab_type": "code",
        "colab": {}
      },
      "source": [
        "class TwoFoldRankingModel(BaseEstimator):\n",
        "    importances = None\n",
        "    model = None\n",
        "\n",
        "    def __init__(self, tree_method='CatBoost'):\n",
        "        if tree_method not in ['CatBoost', 'RF', 'LGBM']:\n",
        "            raise \"Unknown tree_method\"\n",
        "        self.tree_method = tree_method\n",
        "\n",
        "    def fit(self, X, y):\n",
        "        if self.tree_method == 'CatBoost':\n",
        "            cat = CatBoostRegressor(verbose=0)\n",
        "            cat.fit(X, y.ravel())\n",
        "            self.model = cat\n",
        "        elif self.tree_method == 'LGBM':\n",
        "            lgbr = lgbm.LGBMRegressor(\n",
        "                            learning_rate = 0.01, \n",
        "                            n_estimators = 1000\n",
        "                            )\n",
        "            lgbr.fit(X_train, y_train.ravel())\n",
        "            self.model = lgbr\n",
        "        elif self.tree_method == 'RF':\n",
        "            rf_regr = RandomForestRegressor()\n",
        "            rf_regr.fit(X_train, y_train)\n",
        "            self.model = rf_regr\n",
        "        \n",
        "        self.importances = self.model.feature_importances_\n",
        "\n",
        "    def predict(self, X, quantity_func='log'):   #  code snippet -- patterns representation\n",
        "        patterns_number = self.importances.size\n",
        "        ranked = []\n",
        "        for snippet in X:\n",
        "            if quantity_func == 'log':\n",
        "                log_q = np.log(snippet + 1)\n",
        "                pairs = np.vstack((log_q * self.importances,\n",
        "                            np.arange(patterns_number))).T\n",
        "            elif quantity_func == 'linear':\n",
        "                pairs = np.vstack((snippet * self.importances,\n",
        "                            np.arange(patterns_number))).T\n",
        "            elif quantity_func == 'exp':\n",
        "                exp_q = np.exp(snippet + 1)\n",
        "                pairs = np.vstack((exp_q * self.importances,\n",
        "                            np.arange(patterns_number))).T\n",
        "            else:\n",
        "                raise \"Unknown func\"\n",
        "            pairs = pairs[pairs[:,0].argsort()]\n",
        "            ranked.append(pairs[:,1].T.tolist()[::-1])\n",
        "\n",
        "        return np.array(ranked)\n",
        "\n",
        "    def recommend(self, snippet, display=False):\n",
        "        log_q = np.log(snippet + 1)\n",
        "        patterns_number = self.importances.size\n",
        "        pairs = np.vstack((log_q * self.importances,\n",
        "                           np.arange(patterns_number)))\n",
        "        pairs = pairs.T.tolist()\n",
        "        pairs.sort(reverse=True)\n",
        "        pairs = list(map(lambda p: [p[0], int(p[1])], pairs))\n",
        "        recommendation = ONLY_PATTERNS[pairs[0][1]]\n",
        "        if display:\n",
        "            print(recommendation)\n",
        "        \n",
        "        return recommendation\n"
      ],
      "execution_count": 0,
      "outputs": []
    },
    {
      "cell_type": "code",
      "metadata": {
        "id": "tUV56x_6NvxU",
        "colab_type": "code",
        "outputId": "f794c521-7c9c-4126-a36f-9d33953bf2af",
        "colab": {
          "base_uri": "https://localhost:8080/",
          "height": 51
        }
      },
      "source": [
        "%%time \n",
        "\n",
        "twofold_model = TwoFoldRankingModel()\n",
        "twofold_model.fit(X_train, y_train)"
      ],
      "execution_count": 12,
      "outputs": [
        {
          "output_type": "stream",
          "text": [
            "CPU times: user 16.7 s, sys: 1.1 s, total: 17.8 s\n",
            "Wall time: 7.25 s\n"
          ],
          "name": "stdout"
        }
      ]
    },
    {
      "cell_type": "code",
      "metadata": {
        "id": "uP0AnIEni9mJ",
        "colab_type": "code",
        "colab": {}
      },
      "source": [
        "twofold_pred_log = twofold_model.predict(X_test.values, 'log')\n",
        "twofold_pred_lin = twofold_model.predict(X_test.values, 'linear')"
      ],
      "execution_count": 0,
      "outputs": []
    },
    {
      "cell_type": "code",
      "metadata": {
        "id": "UgWDzHxaIIdz",
        "colab_type": "code",
        "outputId": "db8f0edf-cb45-4c65-a167-9608b9cba122",
        "colab": {
          "base_uri": "https://localhost:8080/",
          "height": 102
        }
      },
      "source": [
        "print_scores(y_test, twofold_model.model.predict(X_test))"
      ],
      "execution_count": 15,
      "outputs": [
        {
          "output_type": "stream",
          "text": [
            "MSE:  109.48457589638505\n",
            "MAE:  6.442956222968394\n",
            "MAPE: 49.84667085994198\n",
            "R2:   0.6379419026498441\n",
            "VAR:   302.3950484678696\n"
          ],
          "name": "stdout"
        }
      ]
    },
    {
      "cell_type": "markdown",
      "metadata": {
        "id": "pSXA35vGcoXb",
        "colab_type": "text"
      },
      "source": [
        "# Pairwise SVM"
      ]
    },
    {
      "cell_type": "code",
      "metadata": {
        "id": "eUuT-WcVcsgk",
        "colab_type": "code",
        "colab": {}
      },
      "source": [
        "def generate_full_permutations_dataset(X, y, desired_dataset_size=10000, filename=\"out.csv\"):\n",
        "    def to_bool(s):\n",
        "        return 1 if s else 0\n",
        "\n",
        "    def calc_closest_dataset_size_using_permutation(dataset_size):\n",
        "        # 2-permuations of n =  n*(n-1)\n",
        "        return int(math.sqrt(dataset_size))\n",
        "\n",
        "    indices = []\n",
        "    real_patterns_number = calc_closest_dataset_size_using_permutation(desired_dataset_size)\n",
        "    random_indices = random.sample(range(X.shape[0]), real_patterns_number)\n",
        "    perms = permutations(random_indices, 2)\n",
        "    lst = list(perms)\n",
        "    matrix = []\n",
        "    for _, val in tqdm(enumerate(lst), total=len(lst)):\n",
        "        d1, d2 = val[0], val[1]\n",
        "        left_patterns = X[d1].tolist()\n",
        "        right_patterns = X[d2].tolist()\n",
        "        row = left_patterns + right_patterns\n",
        "        target_left = y[d1]\n",
        "        target_right = y[d2]\n",
        "        target_cyclo = to_bool(target_left < target_right)\n",
        "        matrix.append(row + [target_cyclo])\n",
        "\n",
        "    with open(filename, \"w\", newline=\"\") as f:\n",
        "        writer = csv.writer(f)\n",
        "        writer.writerows(matrix)"
      ],
      "execution_count": 0,
      "outputs": []
    },
    {
      "cell_type": "code",
      "metadata": {
        "id": "aFU-pu4GdUCN",
        "colab_type": "code",
        "colab": {}
      },
      "source": [
        "class PairWiseSVM(BaseEstimator):\n",
        "    params = {}\n",
        "    model = None\n",
        "\n",
        "    def __init__(self, params={'C': 1000, 'gamma': 0.001, 'kernel': 'rbf', 'probability': True}):\n",
        "        self.params = params\n",
        "    \n",
        "    def fit(self, X, y):\n",
        "        generate_full_permutations_dataset(X, y)\n",
        "        dataset = pd.read_csv('out.csv', header=None)\n",
        "\n",
        "        dataset = dataset.drop_duplicates(keep=False)\n",
        "        y = dataset.iloc[:,-1]\n",
        "        X = dataset.iloc[:,:-1]\n",
        "\n",
        "        self.model = svm.SVC(**self.params)\n",
        "        self.model.fit(X, y)\n",
        "\n",
        "    def predict(self, X, display=False):\n",
        "        ranked = []\n",
        "        for arr in X:\n",
        "            changed_arrs = []\n",
        "            for i, item in enumerate(arr):\n",
        "                elem = arr[i]\n",
        "                if elem <= 0:\n",
        "                    continue\n",
        "                else:\n",
        "                    arr_new = arr.copy()\n",
        "                    arr_new[i] = arr[i] - 1\n",
        "                    changed_arrs.append([i, arr_new])\n",
        "            \n",
        "            orders = []\n",
        "            preds = defaultdict(dict)\n",
        "            for elem1, elem2 in combinations(changed_arrs, 2):\n",
        "                index_1 = elem1[0]\n",
        "                index_2 = elem2[0]\n",
        "                input_data = np.hstack((elem1[1], elem2[1])).reshape(1, -1)\n",
        "                pred_p = self.model.predict_proba(input_data)\n",
        "                pred = self.model.predict(input_data)\n",
        "                if pred == 1:\n",
        "                    orders.append([elem1[0], elem2[0]])\n",
        "                else:\n",
        "                    orders.append([elem2[0], elem1[0]])\n",
        "\n",
        "            try:\n",
        "                res = self.topological_sort(orders, display)\n",
        "                ranked.append(res)\n",
        "            except nx.NetworkXUnfeasible as e:\n",
        "                raise 'We have a cycle in a graph, use another method'\n",
        "        return ranked\n",
        "\n",
        "    @staticmethod\n",
        "    def topological_sort(sublists, display=False):\n",
        "        graph = networkx.DiGraph(sublists)\n",
        "        if display:\n",
        "            networkx.draw(graph, with_labels=True, font_weight='bold')\n",
        "        return list(networkx.algorithms.topological_sort(graph))\n"
      ],
      "execution_count": 0,
      "outputs": []
    },
    {
      "cell_type": "code",
      "metadata": {
        "id": "opUYXHNemNpD",
        "colab_type": "code",
        "colab": {
          "base_uri": "https://localhost:8080/",
          "height": 68
        },
        "outputId": "b1310c99-6774-46ee-ad43-68501b0823b5"
      },
      "source": [
        "%%time\n",
        "\n",
        "pw_model = PairWiseSVM()\n",
        "pw_model.fit(X_train, y_train)"
      ],
      "execution_count": 30,
      "outputs": [
        {
          "output_type": "stream",
          "text": [
            "100%|██████████| 9900/9900 [00:00<00:00, 209214.35it/s]\n"
          ],
          "name": "stderr"
        },
        {
          "output_type": "stream",
          "text": [
            "CPU times: user 24.5 s, sys: 83.9 ms, total: 24.6 s\n",
            "Wall time: 24.6 s\n"
          ],
          "name": "stdout"
        }
      ]
    },
    {
      "cell_type": "code",
      "metadata": {
        "id": "D0VVQXrEmLAA",
        "colab_type": "code",
        "colab": {
          "base_uri": "https://localhost:8080/",
          "height": 51
        },
        "outputId": "8675c2cc-4271-4ede-dcc5-c7c5771311e5"
      },
      "source": [
        "test_val = df[ONLY_PATTERNS].values[31].tolist()\n",
        "print(\"Combinations of patterns to rank:\", test_val)\n",
        "ranked_list = pw_model.predict(X_test[30:31])\n",
        "print('The ranked indicies: ', ranked_list)"
      ],
      "execution_count": 31,
      "outputs": [
        {
          "output_type": "stream",
          "text": [
            "Combinations of patterns to rank: [0, 0, 0, 0, 0, 0, 0, 0, 0, 0, 0, 0, 0, 0, 0, 0, 0, 0, 0, 0, 4, 0, 0, 0, 0]\n",
            "The ranked indicies:  [[20, 16, 0, 5]]\n"
          ],
          "name": "stdout"
        }
      ]
    },
    {
      "cell_type": "code",
      "metadata": {
        "id": "0FWXdvlC7pg-",
        "colab_type": "code",
        "colab": {
          "base_uri": "https://localhost:8080/",
          "height": 102
        },
        "outputId": "96c85d04-a8ef-472f-ef7a-88d5eaa7a5c0"
      },
      "source": [
        "X_test[30:31][0]"
      ],
      "execution_count": 16,
      "outputs": [
        {
          "output_type": "execute_result",
          "data": {
            "text/plain": [
              "array([0.16326531, 0.        , 0.        , 0.        , 0.        ,\n",
              "       0.16326531, 0.        , 0.        , 0.        , 0.        ,\n",
              "       0.        , 0.        , 0.        , 0.        , 0.        ,\n",
              "       0.        , 0.02040816, 0.        , 0.        , 0.        ,\n",
              "       0.04081633, 0.        , 0.        , 0.        , 0.        ])"
            ]
          },
          "metadata": {
            "tags": []
          },
          "execution_count": 16
        }
      ]
    },
    {
      "cell_type": "code",
      "metadata": {
        "id": "1Plo_tN_yrjC",
        "colab_type": "code",
        "colab": {}
      },
      "source": [
        "pw_pred = pw_model.predict(X_test)"
      ],
      "execution_count": 0,
      "outputs": []
    },
    {
      "cell_type": "markdown",
      "metadata": {
        "id": "A-RUQZZaixUg",
        "colab_type": "text"
      },
      "source": [
        "# Comparison"
      ]
    },
    {
      "cell_type": "code",
      "metadata": {
        "id": "Sy_KKdB8iwex",
        "colab_type": "code",
        "outputId": "16216d9b-4545-4c24-e5a4-d10fd0ad5f80",
        "colab": {
          "base_uri": "https://localhost:8080/",
          "height": 34
        }
      },
      "source": [
        "net_pred = np.array(net_pred)\n",
        "diff = twofold_pred_log - twofold_pred_lin\n",
        "\n",
        "np.mean(np.std(diff / np.arange(1, FEATURES_NUMBER + 1)))"
      ],
      "execution_count": 0,
      "outputs": [
        {
          "output_type": "execute_result",
          "data": {
            "text/plain": [
              "0.18289225003858278"
            ]
          },
          "metadata": {
            "tags": []
          },
          "execution_count": 106
        }
      ]
    },
    {
      "cell_type": "code",
      "metadata": {
        "id": "D2ZSe3oj-QHS",
        "colab_type": "code",
        "colab": {}
      },
      "source": [
        "sns.set(style='dark')"
      ],
      "execution_count": 0,
      "outputs": []
    },
    {
      "cell_type": "code",
      "metadata": {
        "id": "mFyupyIwiwse",
        "colab_type": "code",
        "outputId": "74ec5a61-491c-40ca-cb81-a0550cee73c2",
        "colab": {
          "base_uri": "https://localhost:8080/",
          "height": 268
        }
      },
      "source": [
        "sns.distplot(diff[:,0], bins=FEATURES_NUMBER)\n",
        "plt.grid()"
      ],
      "execution_count": 0,
      "outputs": [
        {
          "output_type": "display_data",
          "data": {
            "image/png": "[encoded data removed]",
            "text/plain": [
              "<Figure size 432x288 with 1 Axes>"
            ]
          },
          "metadata": {
            "tags": []
          }
        }
      ]
    },
    {
      "cell_type": "code",
      "metadata": {
        "id": "0sOvSonekWNq",
        "colab_type": "code",
        "outputId": "f25bbbbc-df3f-469f-842a-dff0a5609ad3",
        "colab": {
          "base_uri": "https://localhost:8080/",
          "height": 502
        }
      },
      "source": [
        "plt.figure(figsize=(18, 6))\n",
        "sns.distplot(twofold_pred_log[:,0], label='TwoFold_log(q)')\n",
        "sns.distplot(twofold_pred_lin[:,0], label='TwoFold_q')\n",
        "plt.grid()\n",
        "plt.xlim(0, FEATURES_NUMBER)\n",
        "plt.xticks(range(1, FEATURES_NUMBER+1), labels=ONLY_PATTERNS, rotation=-45)\n",
        "plt.legend();"
      ],
      "execution_count": 0,
      "outputs": [
        {
          "output_type": "display_data",
          "data": {
            "image/png": "[encoded data removed]",
            "text/plain": [
              "<Figure size 1296x432 with 1 Axes>"
            ]
          },
          "metadata": {
            "tags": []
          }
        }
      ]
    },
    {
      "cell_type": "code",
      "metadata": {
        "id": "IfKIajnl4VoP",
        "colab_type": "code",
        "outputId": "911ef5f4-9302-40a5-8de6-f418ab6bd55c",
        "colab": {
          "base_uri": "https://localhost:8080/",
          "height": 34
        }
      },
      "source": [
        "len(twofold_pred_lin[twofold_pred_log[:,0] == twofold_pred_lin[:,0]]) / len(twofold_pred_lin[:,0])"
      ],
      "execution_count": 0,
      "outputs": [
        {
          "output_type": "execute_result",
          "data": {
            "text/plain": [
              "0.9947203754399687"
            ]
          },
          "metadata": {
            "tags": []
          },
          "execution_count": 118
        }
      ]
    }
  ]
}